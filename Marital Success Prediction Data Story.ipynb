{
 "cells": [
  {
   "cell_type": "markdown",
   "metadata": {},
   "source": [
    "Marital Success Prediction Data Story"
   ]
  },
  {
   "cell_type": "markdown",
   "metadata": {},
   "source": [
    "1.\tThe questions asked\n",
    "2.\tThe trends investigated\n",
    "3.\tThe resulting visualizations and conclusions."
   ]
  },
  {
   "cell_type": "markdown",
   "metadata": {},
   "source": [
    "Questions and Trends:\n",
    "1. Given the dataset from the NSFG, is it possible to predict the success or failure of a first marriage given the answers to over 3000 questions asked of 7643 women between the ages of 16 and 44.\n",
    "2. Given that there were over 3000 questions asked of each respondent, which of these are redundant and/or least relevant and can be eliminated from the training set data?\n",
    "3. What are some correlations that can be investigated visually with histograms and heat maps?"
   ]
  },
  {
   "cell_type": "markdown",
   "metadata": {},
   "source": [
    "See below for the resulting visualizations and conclusions:"
   ]
  },
  {
   "cell_type": "markdown",
   "metadata": {},
   "source": [
    "I. Load libraries"
   ]
  },
  {
   "cell_type": "code",
   "execution_count": 1,
   "metadata": {
    "collapsed": true
   },
   "outputs": [],
   "source": [
    "#Capstone Proj 1 EDA\n",
    "from __future__ import print_function, division"
   ]
  },
  {
   "cell_type": "code",
   "execution_count": 2,
   "metadata": {
    "collapsed": true
   },
   "outputs": [],
   "source": [
    "%matplotlib inline"
   ]
  },
  {
   "cell_type": "code",
   "execution_count": 3,
   "metadata": {
    "collapsed": true
   },
   "outputs": [],
   "source": [
    "import warnings\n",
    "warnings.filterwarnings('ignore',category=FutureWarning)"
   ]
  },
  {
   "cell_type": "code",
   "execution_count": 4,
   "metadata": {
    "collapsed": true
   },
   "outputs": [],
   "source": [
    "import numpy as np\n",
    "import pandas as pd\n",
    "import random\n",
    "import thinkstats2\n",
    "import thinkplot\n",
    "import nsfg\n",
    "import survival\n",
    "import seaborn as sns\n",
    "import matplotlib.pyplot as plt\n",
    "from matplotlib import pyplot\n",
    "from collections import Counter"
   ]
  },
  {
   "cell_type": "markdown",
   "metadata": {},
   "source": [
    "II. \n",
    "Import dataset from NSFG Cycle 6 (2002 survey cycle, female respondents, convert fixed width data to Pandas dataframe)\n",
    "Link to online codebook:\n",
    "http://www.icpsr.umich.edu/nsfg6/Controller?displayPage=femaleResp"
   ]
  },
  {
   "cell_type": "code",
   "execution_count": 5,
   "metadata": {
    "collapsed": true
   },
   "outputs": [],
   "source": [
    "resp6=nsfg.ReadFemResp()"
   ]
  },
  {
   "cell_type": "markdown",
   "metadata": {},
   "source": [
    "III. Preliminary data exploration"
   ]
  },
  {
   "cell_type": "code",
   "execution_count": 6,
   "metadata": {
    "collapsed": false
   },
   "outputs": [
    {
     "name": "stdout",
     "output_type": "stream",
     "text": [
      "(7643, 3087)\n"
     ]
    }
   ],
   "source": [
    "#find out the shape of the dataset\n",
    "print(resp6.shape)"
   ]
  },
  {
   "cell_type": "markdown",
   "metadata": {},
   "source": [
    "The dataframe has 7643 rows and 3087 columns: 7643 respondents and 3087 variables (7643 instances with 3087 attributes)"
   ]
  },
  {
   "cell_type": "code",
   "execution_count": 7,
   "metadata": {
    "collapsed": false
   },
   "outputs": [
    {
     "data": {
      "text/html": [
       "<div>\n",
       "<table border=\"1\" class=\"dataframe\">\n",
       "  <thead>\n",
       "    <tr style=\"text-align: right;\">\n",
       "      <th></th>\n",
       "      <th>caseid</th>\n",
       "      <th>rscrinf</th>\n",
       "      <th>rdormres</th>\n",
       "      <th>rostscrn</th>\n",
       "      <th>rscreenhisp</th>\n",
       "      <th>rscreenrace</th>\n",
       "      <th>age_a</th>\n",
       "      <th>age_r</th>\n",
       "      <th>cmbirth</th>\n",
       "      <th>agescrn</th>\n",
       "      <th>...</th>\n",
       "      <th>pubassis_i</th>\n",
       "      <th>basewgt</th>\n",
       "      <th>adj_mod_basewgt</th>\n",
       "      <th>finalwgt</th>\n",
       "      <th>secu_r</th>\n",
       "      <th>sest</th>\n",
       "      <th>cmintvw</th>\n",
       "      <th>cmlstyr</th>\n",
       "      <th>screentime</th>\n",
       "      <th>intvlngth</th>\n",
       "    </tr>\n",
       "  </thead>\n",
       "  <tbody>\n",
       "    <tr>\n",
       "      <th>0</th>\n",
       "      <td>2298</td>\n",
       "      <td>1</td>\n",
       "      <td>5</td>\n",
       "      <td>5</td>\n",
       "      <td>1</td>\n",
       "      <td>5.0</td>\n",
       "      <td>27</td>\n",
       "      <td>27</td>\n",
       "      <td>902</td>\n",
       "      <td>27</td>\n",
       "      <td>...</td>\n",
       "      <td>0</td>\n",
       "      <td>3247.916977</td>\n",
       "      <td>5123.759559</td>\n",
       "      <td>5556.717241</td>\n",
       "      <td>2</td>\n",
       "      <td>18</td>\n",
       "      <td>1234</td>\n",
       "      <td>1222</td>\n",
       "      <td>18:26:36</td>\n",
       "      <td>110.492667</td>\n",
       "    </tr>\n",
       "    <tr>\n",
       "      <th>1</th>\n",
       "      <td>5012</td>\n",
       "      <td>1</td>\n",
       "      <td>5</td>\n",
       "      <td>1</td>\n",
       "      <td>5</td>\n",
       "      <td>5.0</td>\n",
       "      <td>42</td>\n",
       "      <td>42</td>\n",
       "      <td>718</td>\n",
       "      <td>42</td>\n",
       "      <td>...</td>\n",
       "      <td>0</td>\n",
       "      <td>2335.279149</td>\n",
       "      <td>2846.799490</td>\n",
       "      <td>4744.191350</td>\n",
       "      <td>2</td>\n",
       "      <td>18</td>\n",
       "      <td>1233</td>\n",
       "      <td>1221</td>\n",
       "      <td>16:30:59</td>\n",
       "      <td>64.294000</td>\n",
       "    </tr>\n",
       "    <tr>\n",
       "      <th>2</th>\n",
       "      <td>11586</td>\n",
       "      <td>1</td>\n",
       "      <td>5</td>\n",
       "      <td>1</td>\n",
       "      <td>5</td>\n",
       "      <td>5.0</td>\n",
       "      <td>43</td>\n",
       "      <td>43</td>\n",
       "      <td>708</td>\n",
       "      <td>43</td>\n",
       "      <td>...</td>\n",
       "      <td>0</td>\n",
       "      <td>2335.279149</td>\n",
       "      <td>2846.799490</td>\n",
       "      <td>4744.191350</td>\n",
       "      <td>2</td>\n",
       "      <td>18</td>\n",
       "      <td>1234</td>\n",
       "      <td>1222</td>\n",
       "      <td>18:19:09</td>\n",
       "      <td>75.149167</td>\n",
       "    </tr>\n",
       "    <tr>\n",
       "      <th>3</th>\n",
       "      <td>6794</td>\n",
       "      <td>5</td>\n",
       "      <td>5</td>\n",
       "      <td>4</td>\n",
       "      <td>1</td>\n",
       "      <td>5.0</td>\n",
       "      <td>15</td>\n",
       "      <td>15</td>\n",
       "      <td>1042</td>\n",
       "      <td>15</td>\n",
       "      <td>...</td>\n",
       "      <td>0</td>\n",
       "      <td>3783.152221</td>\n",
       "      <td>5071.464231</td>\n",
       "      <td>5923.977368</td>\n",
       "      <td>2</td>\n",
       "      <td>18</td>\n",
       "      <td>1234</td>\n",
       "      <td>1222</td>\n",
       "      <td>15:54:43</td>\n",
       "      <td>28.642833</td>\n",
       "    </tr>\n",
       "    <tr>\n",
       "      <th>4</th>\n",
       "      <td>616</td>\n",
       "      <td>1</td>\n",
       "      <td>5</td>\n",
       "      <td>4</td>\n",
       "      <td>1</td>\n",
       "      <td>5.0</td>\n",
       "      <td>20</td>\n",
       "      <td>20</td>\n",
       "      <td>991</td>\n",
       "      <td>20</td>\n",
       "      <td>...</td>\n",
       "      <td>0</td>\n",
       "      <td>5341.329968</td>\n",
       "      <td>6437.335772</td>\n",
       "      <td>7229.128072</td>\n",
       "      <td>2</td>\n",
       "      <td>18</td>\n",
       "      <td>1233</td>\n",
       "      <td>1221</td>\n",
       "      <td>14:19:44</td>\n",
       "      <td>69.502667</td>\n",
       "    </tr>\n",
       "    <tr>\n",
       "      <th>5</th>\n",
       "      <td>845</td>\n",
       "      <td>1</td>\n",
       "      <td>5</td>\n",
       "      <td>4</td>\n",
       "      <td>1</td>\n",
       "      <td>5.0</td>\n",
       "      <td>42</td>\n",
       "      <td>42</td>\n",
       "      <td>727</td>\n",
       "      <td>42</td>\n",
       "      <td>...</td>\n",
       "      <td>0</td>\n",
       "      <td>2335.279149</td>\n",
       "      <td>3725.796795</td>\n",
       "      <td>4705.681352</td>\n",
       "      <td>2</td>\n",
       "      <td>18</td>\n",
       "      <td>1234</td>\n",
       "      <td>1222</td>\n",
       "      <td>17:10:13</td>\n",
       "      <td>95.488000</td>\n",
       "    </tr>\n",
       "    <tr>\n",
       "      <th>6</th>\n",
       "      <td>10333</td>\n",
       "      <td>5</td>\n",
       "      <td>5</td>\n",
       "      <td>3</td>\n",
       "      <td>1</td>\n",
       "      <td>5.0</td>\n",
       "      <td>17</td>\n",
       "      <td>17</td>\n",
       "      <td>1029</td>\n",
       "      <td>17</td>\n",
       "      <td>...</td>\n",
       "      <td>0</td>\n",
       "      <td>2335.279149</td>\n",
       "      <td>2687.399758</td>\n",
       "      <td>3139.151658</td>\n",
       "      <td>2</td>\n",
       "      <td>18</td>\n",
       "      <td>1236</td>\n",
       "      <td>1224</td>\n",
       "      <td>14:14:38</td>\n",
       "      <td>61.204333</td>\n",
       "    </tr>\n",
       "    <tr>\n",
       "      <th>7</th>\n",
       "      <td>855</td>\n",
       "      <td>5</td>\n",
       "      <td>5</td>\n",
       "      <td>4</td>\n",
       "      <td>5</td>\n",
       "      <td>5.0</td>\n",
       "      <td>22</td>\n",
       "      <td>22</td>\n",
       "      <td>965</td>\n",
       "      <td>22</td>\n",
       "      <td>...</td>\n",
       "      <td>0</td>\n",
       "      <td>4670.558298</td>\n",
       "      <td>7122.614751</td>\n",
       "      <td>10019.382170</td>\n",
       "      <td>2</td>\n",
       "      <td>18</td>\n",
       "      <td>1235</td>\n",
       "      <td>1223</td>\n",
       "      <td>14:42:52</td>\n",
       "      <td>59.756333</td>\n",
       "    </tr>\n",
       "    <tr>\n",
       "      <th>8</th>\n",
       "      <td>8656</td>\n",
       "      <td>5</td>\n",
       "      <td>5</td>\n",
       "      <td>4</td>\n",
       "      <td>1</td>\n",
       "      <td>5.0</td>\n",
       "      <td>38</td>\n",
       "      <td>38</td>\n",
       "      <td>780</td>\n",
       "      <td>38</td>\n",
       "      <td>...</td>\n",
       "      <td>0</td>\n",
       "      <td>5198.652195</td>\n",
       "      <td>6027.568848</td>\n",
       "      <td>6520.021223</td>\n",
       "      <td>2</td>\n",
       "      <td>18</td>\n",
       "      <td>1237</td>\n",
       "      <td>1225</td>\n",
       "      <td>15:32:34</td>\n",
       "      <td>56.978833</td>\n",
       "    </tr>\n",
       "    <tr>\n",
       "      <th>9</th>\n",
       "      <td>3566</td>\n",
       "      <td>5</td>\n",
       "      <td>5</td>\n",
       "      <td>4</td>\n",
       "      <td>5</td>\n",
       "      <td>5.0</td>\n",
       "      <td>21</td>\n",
       "      <td>21</td>\n",
       "      <td>974</td>\n",
       "      <td>21</td>\n",
       "      <td>...</td>\n",
       "      <td>0</td>\n",
       "      <td>2764.142038</td>\n",
       "      <td>3240.986558</td>\n",
       "      <td>4559.095792</td>\n",
       "      <td>2</td>\n",
       "      <td>18</td>\n",
       "      <td>1231</td>\n",
       "      <td>1219</td>\n",
       "      <td>16:22:25</td>\n",
       "      <td>104.744667</td>\n",
       "    </tr>\n",
       "    <tr>\n",
       "      <th>10</th>\n",
       "      <td>5917</td>\n",
       "      <td>1</td>\n",
       "      <td>5</td>\n",
       "      <td>3</td>\n",
       "      <td>1</td>\n",
       "      <td>5.0</td>\n",
       "      <td>44</td>\n",
       "      <td>43</td>\n",
       "      <td>714</td>\n",
       "      <td>43</td>\n",
       "      <td>...</td>\n",
       "      <td>0</td>\n",
       "      <td>2418.624283</td>\n",
       "      <td>2762.143030</td>\n",
       "      <td>3488.586646</td>\n",
       "      <td>2</td>\n",
       "      <td>18</td>\n",
       "      <td>1233</td>\n",
       "      <td>1221</td>\n",
       "      <td>15:38:06</td>\n",
       "      <td>96.850167</td>\n",
       "    </tr>\n",
       "    <tr>\n",
       "      <th>11</th>\n",
       "      <td>9200</td>\n",
       "      <td>5</td>\n",
       "      <td>5</td>\n",
       "      <td>3</td>\n",
       "      <td>1</td>\n",
       "      <td>5.0</td>\n",
       "      <td>26</td>\n",
       "      <td>26</td>\n",
       "      <td>923</td>\n",
       "      <td>26</td>\n",
       "      <td>...</td>\n",
       "      <td>0</td>\n",
       "      <td>2418.624283</td>\n",
       "      <td>2754.293339</td>\n",
       "      <td>2987.031126</td>\n",
       "      <td>2</td>\n",
       "      <td>18</td>\n",
       "      <td>1237</td>\n",
       "      <td>1225</td>\n",
       "      <td>14:12:31</td>\n",
       "      <td>61.060667</td>\n",
       "    </tr>\n",
       "    <tr>\n",
       "      <th>12</th>\n",
       "      <td>6320</td>\n",
       "      <td>5</td>\n",
       "      <td>5</td>\n",
       "      <td>5</td>\n",
       "      <td>5</td>\n",
       "      <td>1.0</td>\n",
       "      <td>23</td>\n",
       "      <td>23</td>\n",
       "      <td>952</td>\n",
       "      <td>23</td>\n",
       "      <td>...</td>\n",
       "      <td>0</td>\n",
       "      <td>5497.225851</td>\n",
       "      <td>6448.332868</td>\n",
       "      <td>7241.477811</td>\n",
       "      <td>1</td>\n",
       "      <td>18</td>\n",
       "      <td>1236</td>\n",
       "      <td>1224</td>\n",
       "      <td>14:27:20</td>\n",
       "      <td>69.906500</td>\n",
       "    </tr>\n",
       "    <tr>\n",
       "      <th>13</th>\n",
       "      <td>11700</td>\n",
       "      <td>1</td>\n",
       "      <td>5</td>\n",
       "      <td>4</td>\n",
       "      <td>1</td>\n",
       "      <td>5.0</td>\n",
       "      <td>34</td>\n",
       "      <td>34</td>\n",
       "      <td>822</td>\n",
       "      <td>34</td>\n",
       "      <td>...</td>\n",
       "      <td>0</td>\n",
       "      <td>3362.448309</td>\n",
       "      <td>3677.062170</td>\n",
       "      <td>4666.559600</td>\n",
       "      <td>1</td>\n",
       "      <td>18</td>\n",
       "      <td>1236</td>\n",
       "      <td>1224</td>\n",
       "      <td>11:35:31</td>\n",
       "      <td>77.493333</td>\n",
       "    </tr>\n",
       "    <tr>\n",
       "      <th>14</th>\n",
       "      <td>7354</td>\n",
       "      <td>1</td>\n",
       "      <td>5</td>\n",
       "      <td>4</td>\n",
       "      <td>1</td>\n",
       "      <td>5.0</td>\n",
       "      <td>28</td>\n",
       "      <td>28</td>\n",
       "      <td>896</td>\n",
       "      <td>28</td>\n",
       "      <td>...</td>\n",
       "      <td>0</td>\n",
       "      <td>2417.628123</td>\n",
       "      <td>2790.899197</td>\n",
       "      <td>3026.730179</td>\n",
       "      <td>1</td>\n",
       "      <td>18</td>\n",
       "      <td>1235</td>\n",
       "      <td>1223</td>\n",
       "      <td>14:40:18</td>\n",
       "      <td>79.018500</td>\n",
       "    </tr>\n",
       "    <tr>\n",
       "      <th>15</th>\n",
       "      <td>3697</td>\n",
       "      <td>5</td>\n",
       "      <td>5</td>\n",
       "      <td>4</td>\n",
       "      <td>5</td>\n",
       "      <td>5.0</td>\n",
       "      <td>28</td>\n",
       "      <td>28</td>\n",
       "      <td>896</td>\n",
       "      <td>28</td>\n",
       "      <td>...</td>\n",
       "      <td>0</td>\n",
       "      <td>9670.512492</td>\n",
       "      <td>18559.585881</td>\n",
       "      <td>31215.367494</td>\n",
       "      <td>1</td>\n",
       "      <td>18</td>\n",
       "      <td>1236</td>\n",
       "      <td>1224</td>\n",
       "      <td>11:59:26</td>\n",
       "      <td>45.963500</td>\n",
       "    </tr>\n",
       "    <tr>\n",
       "      <th>16</th>\n",
       "      <td>4881</td>\n",
       "      <td>1</td>\n",
       "      <td>5</td>\n",
       "      <td>5</td>\n",
       "      <td>1</td>\n",
       "      <td>5.0</td>\n",
       "      <td>23</td>\n",
       "      <td>23</td>\n",
       "      <td>948</td>\n",
       "      <td>23</td>\n",
       "      <td>...</td>\n",
       "      <td>0</td>\n",
       "      <td>3292.089359</td>\n",
       "      <td>3935.302679</td>\n",
       "      <td>4419.344908</td>\n",
       "      <td>1</td>\n",
       "      <td>18</td>\n",
       "      <td>1234</td>\n",
       "      <td>1222</td>\n",
       "      <td>20:37:54</td>\n",
       "      <td>110.416833</td>\n",
       "    </tr>\n",
       "    <tr>\n",
       "      <th>17</th>\n",
       "      <td>5862</td>\n",
       "      <td>1</td>\n",
       "      <td>5</td>\n",
       "      <td>4</td>\n",
       "      <td>1</td>\n",
       "      <td>5.0</td>\n",
       "      <td>33</td>\n",
       "      <td>33</td>\n",
       "      <td>831</td>\n",
       "      <td>33</td>\n",
       "      <td>...</td>\n",
       "      <td>0</td>\n",
       "      <td>3056.771190</td>\n",
       "      <td>3456.489520</td>\n",
       "      <td>4386.630850</td>\n",
       "      <td>1</td>\n",
       "      <td>18</td>\n",
       "      <td>1234</td>\n",
       "      <td>1222</td>\n",
       "      <td>16:42:13</td>\n",
       "      <td>107.819667</td>\n",
       "    </tr>\n",
       "    <tr>\n",
       "      <th>18</th>\n",
       "      <td>8542</td>\n",
       "      <td>5</td>\n",
       "      <td>5</td>\n",
       "      <td>5</td>\n",
       "      <td>5</td>\n",
       "      <td>5.0</td>\n",
       "      <td>16</td>\n",
       "      <td>16</td>\n",
       "      <td>1036</td>\n",
       "      <td>16</td>\n",
       "      <td>...</td>\n",
       "      <td>0</td>\n",
       "      <td>5900.163872</td>\n",
       "      <td>6697.056170</td>\n",
       "      <td>7822.831313</td>\n",
       "      <td>1</td>\n",
       "      <td>18</td>\n",
       "      <td>1237</td>\n",
       "      <td>1225</td>\n",
       "      <td>13:04:36</td>\n",
       "      <td>72.481500</td>\n",
       "    </tr>\n",
       "    <tr>\n",
       "      <th>19</th>\n",
       "      <td>2054</td>\n",
       "      <td>1</td>\n",
       "      <td>5</td>\n",
       "      <td>4</td>\n",
       "      <td>5</td>\n",
       "      <td>1.0</td>\n",
       "      <td>24</td>\n",
       "      <td>24</td>\n",
       "      <td>939</td>\n",
       "      <td>24</td>\n",
       "      <td>...</td>\n",
       "      <td>0</td>\n",
       "      <td>2417.628123</td>\n",
       "      <td>2570.384230</td>\n",
       "      <td>2886.541491</td>\n",
       "      <td>1</td>\n",
       "      <td>18</td>\n",
       "      <td>1236</td>\n",
       "      <td>1224</td>\n",
       "      <td>13:58:43</td>\n",
       "      <td>87.417500</td>\n",
       "    </tr>\n",
       "  </tbody>\n",
       "</table>\n",
       "<p>20 rows × 3087 columns</p>\n",
       "</div>"
      ],
      "text/plain": [
       "    caseid  rscrinf  rdormres  rostscrn  rscreenhisp  rscreenrace  age_a  \\\n",
       "0     2298        1         5         5            1          5.0     27   \n",
       "1     5012        1         5         1            5          5.0     42   \n",
       "2    11586        1         5         1            5          5.0     43   \n",
       "3     6794        5         5         4            1          5.0     15   \n",
       "4      616        1         5         4            1          5.0     20   \n",
       "5      845        1         5         4            1          5.0     42   \n",
       "6    10333        5         5         3            1          5.0     17   \n",
       "7      855        5         5         4            5          5.0     22   \n",
       "8     8656        5         5         4            1          5.0     38   \n",
       "9     3566        5         5         4            5          5.0     21   \n",
       "10    5917        1         5         3            1          5.0     44   \n",
       "11    9200        5         5         3            1          5.0     26   \n",
       "12    6320        5         5         5            5          1.0     23   \n",
       "13   11700        1         5         4            1          5.0     34   \n",
       "14    7354        1         5         4            1          5.0     28   \n",
       "15    3697        5         5         4            5          5.0     28   \n",
       "16    4881        1         5         5            1          5.0     23   \n",
       "17    5862        1         5         4            1          5.0     33   \n",
       "18    8542        5         5         5            5          5.0     16   \n",
       "19    2054        1         5         4            5          1.0     24   \n",
       "\n",
       "    age_r  cmbirth  agescrn     ...      pubassis_i      basewgt  \\\n",
       "0      27      902       27     ...               0  3247.916977   \n",
       "1      42      718       42     ...               0  2335.279149   \n",
       "2      43      708       43     ...               0  2335.279149   \n",
       "3      15     1042       15     ...               0  3783.152221   \n",
       "4      20      991       20     ...               0  5341.329968   \n",
       "5      42      727       42     ...               0  2335.279149   \n",
       "6      17     1029       17     ...               0  2335.279149   \n",
       "7      22      965       22     ...               0  4670.558298   \n",
       "8      38      780       38     ...               0  5198.652195   \n",
       "9      21      974       21     ...               0  2764.142038   \n",
       "10     43      714       43     ...               0  2418.624283   \n",
       "11     26      923       26     ...               0  2418.624283   \n",
       "12     23      952       23     ...               0  5497.225851   \n",
       "13     34      822       34     ...               0  3362.448309   \n",
       "14     28      896       28     ...               0  2417.628123   \n",
       "15     28      896       28     ...               0  9670.512492   \n",
       "16     23      948       23     ...               0  3292.089359   \n",
       "17     33      831       33     ...               0  3056.771190   \n",
       "18     16     1036       16     ...               0  5900.163872   \n",
       "19     24      939       24     ...               0  2417.628123   \n",
       "\n",
       "    adj_mod_basewgt      finalwgt  secu_r  sest  cmintvw  cmlstyr  screentime  \\\n",
       "0       5123.759559   5556.717241       2    18     1234     1222    18:26:36   \n",
       "1       2846.799490   4744.191350       2    18     1233     1221    16:30:59   \n",
       "2       2846.799490   4744.191350       2    18     1234     1222    18:19:09   \n",
       "3       5071.464231   5923.977368       2    18     1234     1222    15:54:43   \n",
       "4       6437.335772   7229.128072       2    18     1233     1221    14:19:44   \n",
       "5       3725.796795   4705.681352       2    18     1234     1222    17:10:13   \n",
       "6       2687.399758   3139.151658       2    18     1236     1224    14:14:38   \n",
       "7       7122.614751  10019.382170       2    18     1235     1223    14:42:52   \n",
       "8       6027.568848   6520.021223       2    18     1237     1225    15:32:34   \n",
       "9       3240.986558   4559.095792       2    18     1231     1219    16:22:25   \n",
       "10      2762.143030   3488.586646       2    18     1233     1221    15:38:06   \n",
       "11      2754.293339   2987.031126       2    18     1237     1225    14:12:31   \n",
       "12      6448.332868   7241.477811       1    18     1236     1224    14:27:20   \n",
       "13      3677.062170   4666.559600       1    18     1236     1224    11:35:31   \n",
       "14      2790.899197   3026.730179       1    18     1235     1223    14:40:18   \n",
       "15     18559.585881  31215.367494       1    18     1236     1224    11:59:26   \n",
       "16      3935.302679   4419.344908       1    18     1234     1222    20:37:54   \n",
       "17      3456.489520   4386.630850       1    18     1234     1222    16:42:13   \n",
       "18      6697.056170   7822.831313       1    18     1237     1225    13:04:36   \n",
       "19      2570.384230   2886.541491       1    18     1236     1224    13:58:43   \n",
       "\n",
       "     intvlngth  \n",
       "0   110.492667  \n",
       "1    64.294000  \n",
       "2    75.149167  \n",
       "3    28.642833  \n",
       "4    69.502667  \n",
       "5    95.488000  \n",
       "6    61.204333  \n",
       "7    59.756333  \n",
       "8    56.978833  \n",
       "9   104.744667  \n",
       "10   96.850167  \n",
       "11   61.060667  \n",
       "12   69.906500  \n",
       "13   77.493333  \n",
       "14   79.018500  \n",
       "15   45.963500  \n",
       "16  110.416833  \n",
       "17  107.819667  \n",
       "18   72.481500  \n",
       "19   87.417500  \n",
       "\n",
       "[20 rows x 3087 columns]"
      ]
     },
     "execution_count": 7,
     "metadata": {},
     "output_type": "execute_result"
    }
   ],
   "source": [
    "resp6.head(20)"
   ]
  },
  {
   "cell_type": "markdown",
   "metadata": {},
   "source": []
  },
  {
   "cell_type": "code",
   "execution_count": 8,
   "metadata": {
    "collapsed": false
   },
   "outputs": [
    {
     "name": "stdout",
     "output_type": "stream",
     "text": [
      "             caseid      rscrinf     rdormres     rostscrn  rscreenhisp  \\\n",
      "count   7643.000000  7643.000000  7643.000000  7643.000000  7643.000000   \n",
      "mean    6272.107811     2.589952     4.901086     3.210258     4.207641   \n",
      "std     3638.824134     1.957642     0.621227     1.453237     1.594345   \n",
      "min        1.000000     1.000000     1.000000     1.000000     1.000000   \n",
      "25%     3105.500000     1.000000     5.000000     2.000000     5.000000   \n",
      "50%     6275.000000     1.000000     5.000000     3.000000     5.000000   \n",
      "75%     9442.000000     5.000000     5.000000     4.000000     5.000000   \n",
      "max    12571.000000     5.000000     5.000000     8.000000     5.000000   \n",
      "\n",
      "       rscreenrace        age_a        age_r      cmbirth      agescrn  \\\n",
      "count  7636.000000  7643.000000  7643.000000  7643.000000  7643.000000   \n",
      "mean      4.543740    29.501374    29.503729   872.764098    29.503729   \n",
      "std       0.915728     8.431868     8.433187   101.161818     8.433187   \n",
      "min       1.000000    15.000000    15.000000   688.000000    15.000000   \n",
      "25%       4.000000    22.000000    22.000000   787.000000    22.000000   \n",
      "50%       5.000000    30.000000    30.000000   873.000000    30.000000   \n",
      "75%       5.000000    37.000000    37.000000   959.500000    37.000000   \n",
      "max       5.000000    44.000000    44.000000  1058.000000    44.000000   \n",
      "\n",
      "          ...         totincr_i   pubassis_i       basewgt  adj_mod_basewgt  \\\n",
      "count     ...       7643.000000  7643.000000   7643.000000      7643.000000   \n",
      "mean      ...          0.082428     0.020411   4165.454807      5285.022176   \n",
      "std       ...          0.275034     0.141410   3210.203026      4506.081386   \n",
      "min       ...          0.000000     0.000000     64.577101        71.201194   \n",
      "25%       ...          0.000000     0.000000   2418.149898      2900.050198   \n",
      "50%       ...          0.000000     0.000000   3410.500996      4212.069520   \n",
      "75%       ...          0.000000     0.000000   4870.774756      6033.357685   \n",
      "max       ...          1.000000     1.000000  99707.832014    157143.686687   \n",
      "\n",
      "            finalwgt      secu_r         sest      cmintvw      cmlstyr  \\\n",
      "count    7643.000000  7643.00000  7643.000000  7643.000000  7643.000000   \n",
      "mean     8054.522410     1.48986    44.574905  1232.783200  1220.783200   \n",
      "std      7342.734883     0.49993    24.239897     2.978545     2.978545   \n",
      "min       118.656790     1.00000     1.000000  1225.000000  1213.000000   \n",
      "25%      4175.880599     1.00000    25.000000  1231.000000  1219.000000   \n",
      "50%      6553.169964     1.00000    45.000000  1233.000000  1221.000000   \n",
      "75%      9590.027246     2.00000    65.000000  1235.000000  1223.000000   \n",
      "max    261879.953864     2.00000    84.000000  1239.000000  1227.000000   \n",
      "\n",
      "         intvlngth  \n",
      "count  7643.000000  \n",
      "mean     82.755558  \n",
      "std      32.618328  \n",
      "min      13.512667  \n",
      "25%      60.527833  \n",
      "50%      78.180833  \n",
      "75%      99.281000  \n",
      "max     306.238000  \n",
      "\n",
      "[8 rows x 3086 columns]\n"
     ]
    }
   ],
   "source": [
    "#Describe the dataframe with some basic statistics.\n",
    "print(resp6.describe())"
   ]
  },
  {
   "cell_type": "code",
   "execution_count": 9,
   "metadata": {
    "collapsed": false
   },
   "outputs": [
    {
     "name": "stdout",
     "output_type": "stream",
     "text": [
      "<class 'pandas.core.frame.DataFrame'>\n",
      "RangeIndex: 7643 entries, 0 to 7642\n",
      "Columns: 3087 entries, caseid to intvlngth\n",
      "dtypes: float64(2491), int64(595), object(1)\n",
      "memory usage: 180.0+ MB\n"
     ]
    }
   ],
   "source": [
    "resp6.info()"
   ]
  },
  {
   "cell_type": "code",
   "execution_count": 10,
   "metadata": {
    "collapsed": false
   },
   "outputs": [
    {
     "name": "stdout",
     "output_type": "stream",
     "text": [
      "evrmarry\n",
      "0    3517\n",
      "1    4126\n",
      "dtype: int64\n"
     ]
    }
   ],
   "source": [
    "# evermarried distribution\n",
    "print(resp6.groupby('evrmarry').size())"
   ]
  },
  {
   "cell_type": "markdown",
   "metadata": {},
   "source": [
    "From Cycle 6 Codebook:\n",
    "cmmarrhx (340 - 343)\n",
    "Century Month for Date of 1st Marriage (Computed)\n",
    "NSFG Cycle 6 Female Respondent File Section C\n",
    "1 of 237\n",
    "Value Label Total\n",
    ". inapplicable 3525\n",
    "301-1164 BEFORE 1997 2928\n",
    "1165-1239 JANUARY 1997 OR LATER 1161\n",
    "9997 Not ascertained 1\n",
    "9998 Refused 9\n",
    "9999 Don't know 19\n",
    "Total 7643\n",
    "Universe:\n",
    "Applicable if R has ever been married (fmarit = 1, 2, 3, or 4)\n",
    "Compute Age at First Marriage (***First examine cmarrhx to find maximum values)\n",
    "https://healthyalgorithms.com/2014/07/03/tabular-data-in-python-getting-just-the-columns-i-want-from-pandas-dataframe-describe/"
   ]
  },
  {
   "cell_type": "markdown",
   "metadata": {},
   "source": [
    "IV. Data Cleaning\n",
    "Search for outliers so computed ages aren't skewed, 9997-9999 are codes, not century months."
   ]
  },
  {
   "cell_type": "code",
   "execution_count": 11,
   "metadata": {
    "collapsed": false
   },
   "outputs": [
    {
     "data": {
      "text/plain": [
       "71      9999.0\n",
       "174     9999.0\n",
       "682     9999.0\n",
       "787     9999.0\n",
       "816     9999.0\n",
       "966     9999.0\n",
       "1157    9999.0\n",
       "1234    9999.0\n",
       "1305    9999.0\n",
       "2013    9999.0\n",
       "2107    9999.0\n",
       "2556    9999.0\n",
       "3547    9999.0\n",
       "3998    9999.0\n",
       "5224    9999.0\n",
       "5326    9999.0\n",
       "5786    9999.0\n",
       "6692    9999.0\n",
       "7527    9999.0\n",
       "446     9998.0\n",
       "2039    9998.0\n",
       "2599    9998.0\n",
       "2751    9998.0\n",
       "2765    9998.0\n",
       "2789    9998.0\n",
       "3220    9998.0\n",
       "3868    9998.0\n",
       "4149    9998.0\n",
       "213     9997.0\n",
       "3056    1236.0\n",
       "1015    1235.0\n",
       "2244    1235.0\n",
       "3304    1235.0\n",
       "4368    1235.0\n",
       "2339    1234.0\n",
       "2489    1234.0\n",
       "4633    1234.0\n",
       "5808    1234.0\n",
       "324     1233.0\n",
       "2562    1233.0\n",
       "2569    1233.0\n",
       "3663    1233.0\n",
       "3872    1233.0\n",
       "3873    1233.0\n",
       "3966    1233.0\n",
       "6024    1233.0\n",
       "6059    1233.0\n",
       "6097    1233.0\n",
       "6174    1233.0\n",
       "6285    1233.0\n",
       "Name: cmmarrhx, dtype: float64"
      ]
     },
     "execution_count": 11,
     "metadata": {},
     "output_type": "execute_result"
    }
   ],
   "source": [
    "#resp6['cmmarrhx'].max()\n",
    "resp6['cmmarrhx'].nlargest(50)"
   ]
  },
  {
   "cell_type": "markdown",
   "metadata": {},
   "source": [
    "Replace invalid entries with np.nan\n",
    "Convert century months to ages"
   ]
  },
  {
   "cell_type": "code",
   "execution_count": 12,
   "metadata": {
    "collapsed": true
   },
   "outputs": [],
   "source": [
    "resp6.cmmarrhx.replace([9997, 9998, 9999], np.nan, inplace=True)\n",
    "resp6['agemarry'] = (resp6.cmmarrhx - resp6.cmbirth) / 12.0\n",
    "resp6['age'] = (resp6.cmintvw - resp6.cmbirth) / 12.0"
   ]
  },
  {
   "cell_type": "markdown",
   "metadata": {},
   "source": [
    "Compute age at first marriage if ever married, age at interview if never married."
   ]
  },
  {
   "cell_type": "code",
   "execution_count": 13,
   "metadata": {
    "collapsed": true
   },
   "outputs": [],
   "source": [
    "complete = resp6[resp6.evrmarry==1].agemarry.dropna()\n",
    "ongoing = resp6[resp6.evrmarry==0].age"
   ]
  },
  {
   "cell_type": "code",
   "execution_count": 14,
   "metadata": {
    "collapsed": false
   },
   "outputs": [
    {
     "data": {
      "image/png": "[encoded data removed]",
      "text/plain": [
       "<matplotlib.figure.Figure at 0x1501281470>"
      ]
     },
     "metadata": {},
     "output_type": "display_data"
    }
   ],
   "source": [
    "hist = thinkstats2.Hist(resp6.totincr)\n",
    "thinkplot.Hist(hist, label='totincr')\n",
    "thinkplot.Config(xlabel='income (category)', ylabel='Count')"
   ]
  },
  {
   "cell_type": "code",
   "execution_count": 15,
   "metadata": {
    "collapsed": false
   },
   "outputs": [
    {
     "data": {
      "image/png": "[encoded data removed]",
      "text/plain": [
       "<matplotlib.figure.Figure at 0x15745a1320>"
      ]
     },
     "metadata": {},
     "output_type": "display_data"
    }
   ],
   "source": [
    "#Plot histogram of age at first marriage\n",
    "#complete = resp6[resp6.evrmarry==1].agemarry.dropna()\n",
    "hist = thinkstats2.Hist(resp6[resp6.evrmarry==1].agemarry.dropna())\n",
    "thinkplot.Hist(hist, label='Age at first marriage')\n",
    "thinkplot.Config(xlabel='Age (category)', ylabel='Count')"
   ]
  },
  {
   "cell_type": "markdown",
   "metadata": {
    "collapsed": true
   },
   "source": [
    "redo histogram with bins, then compare age at first marriage for those who divorced vs those who didn't\n",
    "matplotlib.pyplot.hist(x, bins=None, range=None, normed=False, weights=None, cumulative=False, bottom=None, histtype='bar', align='mid', orientation='vertical', rwidth=None, log=False, color=None, label=None, stacked=False, hold=None, data=None, **kwargs)"
   ]
  },
  {
   "cell_type": "markdown",
   "metadata": {
    "collapsed": true
   },
   "source": [
    "#import seaborn as sns"
   ]
  },
  {
   "cell_type": "code",
   "execution_count": 16,
   "metadata": {
    "collapsed": true
   },
   "outputs": [],
   "source": [
    "#seaborn settings\n",
    "sns.set_palette(\"deep\", desat=.6)\n",
    "sns.set_context(rc={\"figure.figsize\": (8,4)})"
   ]
  },
  {
   "cell_type": "markdown",
   "metadata": {
    "collapsed": true
   },
   "source": [
    "#import matplotlib.pyplot as plt"
   ]
  },
  {
   "cell_type": "markdown",
   "metadata": {},
   "source": [
    "Use bins to simplify histogram "
   ]
  },
  {
   "cell_type": "code",
   "execution_count": 17,
   "metadata": {
    "collapsed": false
   },
   "outputs": [
    {
     "data": {
      "text/plain": [
       "(array([   3.,    6.,   34.,  111.,  206.,  435.,  433.,  487.,  467.,\n",
       "         446.,  321.,  316.,  219.,  184.,  124.,   90.,   56.,   49.,\n",
       "          38.,   19.,   16.,   12.,    8.,    4.,    5.]),\n",
       " array([ 11.5       ,  12.79333333,  14.08666667,  15.38      ,\n",
       "         16.67333333,  17.96666667,  19.26      ,  20.55333333,\n",
       "         21.84666667,  23.14      ,  24.43333333,  25.72666667,\n",
       "         27.02      ,  28.31333333,  29.60666667,  30.9       ,\n",
       "         32.19333333,  33.48666667,  34.78      ,  36.07333333,\n",
       "         37.36666667,  38.66      ,  39.95333333,  41.24666667,\n",
       "         42.54      ,  43.83333333]),\n",
       " <a list of 25 Patch objects>)"
      ]
     },
     "execution_count": 17,
     "metadata": {},
     "output_type": "execute_result"
    },
    {
     "data": {
      "image/png": "[encoded data removed]",
      "text/plain": [
       "<matplotlib.figure.Figure at 0x1502362b00>"
      ]
     },
     "metadata": {},
     "output_type": "display_data"
    }
   ],
   "source": [
    "#hist = thinkstats2.Hist(resp6[resp6.evrmarry==1].agemarry.dropna())\n",
    "#thinkplot.Hist(hist, bins=20, label='Age at first marriage')\n",
    "#thinkplot.Config(xlabel='Age (category)', ylabel='Count')\n",
    "plt.hist(resp6[resp6.evrmarry==1].agemarry.dropna(),bins=25)"
   ]
  },
  {
   "cell_type": "markdown",
   "metadata": {},
   "source": [
    "Histogram with age of first marriage of those who divorced (marendhx==2) Need to add labels"
   ]
  },
  {
   "cell_type": "code",
   "execution_count": 18,
   "metadata": {
    "collapsed": false
   },
   "outputs": [
    {
     "data": {
      "text/plain": [
       "(array([   1.,    3.,   10.,   21.,   55.,  102.,  107.,  103.,  115.,\n",
       "         102.,   69.,   82.,   52.,   31.,   30.,   34.,   11.,    9.,\n",
       "          11.,    8.,    3.,    3.,    4.,    1.,    3.]),\n",
       " array([ 12.5       ,  13.43333333,  14.36666667,  15.3       ,\n",
       "         16.23333333,  17.16666667,  18.1       ,  19.03333333,\n",
       "         19.96666667,  20.9       ,  21.83333333,  22.76666667,\n",
       "         23.7       ,  24.63333333,  25.56666667,  26.5       ,\n",
       "         27.43333333,  28.36666667,  29.3       ,  30.23333333,\n",
       "         31.16666667,  32.1       ,  33.03333333,  33.96666667,\n",
       "         34.9       ,  35.83333333]),\n",
       " <a list of 25 Patch objects>)"
      ]
     },
     "execution_count": 18,
     "metadata": {},
     "output_type": "execute_result"
    },
    {
     "data": {
      "image/png": "[encoded data removed]",
      "text/plain": [
       "<matplotlib.figure.Figure at 0x1501178780>"
      ]
     },
     "metadata": {},
     "output_type": "display_data"
    }
   ],
   "source": [
    "plt.hist(resp6[resp6.marendhx==2].agemarry.dropna(),bins=25)"
   ]
  },
  {
   "cell_type": "code",
   "execution_count": 19,
   "metadata": {
    "collapsed": false
   },
   "outputs": [],
   "source": [
    "ndv=resp6[(resp6.marendhx!=2) & (resp6.evrmarry==1)].agemarry.dropna()"
   ]
  },
  {
   "cell_type": "code",
   "execution_count": 20,
   "metadata": {
    "collapsed": true
   },
   "outputs": [],
   "source": [
    "dv=resp6[(resp6.marendhx==2) & (resp6.evrmarry==1)].agemarry.dropna()"
   ]
  },
  {
   "cell_type": "markdown",
   "metadata": {},
   "source": [
    "Plot the age at first marriage for divorced vs non-divorced on the same histogram:\n",
    "Example:\n",
    "x = [random.gauss(3,1) for _ in range(400)]\n",
    "y = [random.gauss(4,2) for _ in range(400)]\n",
    "\n",
    "bins = numpy.linspace(-10, 10, 100)\n",
    "\n",
    "pyplot.hist(x, bins, alpha=0.5, label='x')\n",
    "pyplot.hist(y, bins, alpha=0.5, label='y')\n",
    "pyplot.legend(loc='upper right')\n",
    "pyplot.show()"
   ]
  },
  {
   "cell_type": "markdown",
   "metadata": {
    "collapsed": true
   },
   "source": [
    "#from matplotlib import pyplot"
   ]
  },
  {
   "cell_type": "code",
   "execution_count": 21,
   "metadata": {
    "collapsed": false
   },
   "outputs": [
    {
     "data": {
      "image/png": "[encoded data removed]",
      "text/plain": [
       "<matplotlib.figure.Figure at 0x150006bc50>"
      ]
     },
     "metadata": {},
     "output_type": "display_data"
    }
   ],
   "source": [
    "pyplot.hist(dv, bins=20, alpha=0.5, label='divorced')\n",
    "pyplot.hist(ndv, bins=20, alpha=0.5, label='non-divorced')\n",
    "pyplot.legend(loc='upper right')\n",
    "pyplot.show()"
   ]
  },
  {
   "cell_type": "markdown",
   "metadata": {},
   "source": [
    "Redo with weights to normalize scale (example from stackoverflow)\n",
    "x = np.random.normal(5, 2, 10000)\n",
    "y = np.random.normal(2, 1, 3000000)\n",
    "\n",
    "xweights = 100 * np.ones_like(x) / x.size\n",
    "yweights = 100 * np.ones_like(y) / y.size\n",
    "\n",
    "fig, ax = plt.subplots()\n",
    "ax.hist(x, weights=xweights, color='lightblue', alpha=0.5)\n",
    "ax.hist(y, weights=yweights, color='salmon', alpha=0.5)\n",
    "\n",
    "ax.set(title='Histogram Comparison', ylabel='% of Dataset in Bin')\n",
    "ax.margins(0.05)\n",
    "ax.set_ylim(bottom=0)\n",
    "plt.show()"
   ]
  },
  {
   "cell_type": "code",
   "execution_count": 23,
   "metadata": {
    "collapsed": false
   },
   "outputs": [
    {
     "data": {
      "image/png": "[encoded data removed]",
      "text/plain": [
       "<matplotlib.figure.Figure at 0x157fef0a90>"
      ]
     },
     "metadata": {},
     "output_type": "display_data"
    }
   ],
   "source": [
    "dvweights = 100 * np.ones_like(dv) / dv.size\n",
    "ndvweights = 100 * np.ones_like(ndv) / ndv.size\n",
    "\n",
    "fig, ax = plt.subplots()\n",
    "ax.hist(dv, weights=dvweights, color='lightblue', alpha=0.5, label='divorced')\n",
    "ax.hist(ndv, weights=ndvweights, color='salmon', alpha=0.5, label='not divorced')\n",
    "\n",
    "ax.set(title='Age at First Marriage Comparison:Blue Divorced, Salmon Not Divorced', ylabel='% of Dataset in Bin')\n",
    "ax.margins(0.05)\n",
    "ax.set_ylim(bottom=0)\n",
    "plt.show()"
   ]
  },
  {
   "cell_type": "markdown",
   "metadata": {},
   "source": [
    "Violin Plot\n",
    "sns.violinplot(titanic.Age.dropna(), titanic.Sex)\n",
    "plt.hist(resp6[resp6.evrmarry==1].agemarry.dropna(),bins=25)\n",
    "plt.hist(resp6[resp6.marendhx==2].agemarry.dropna(),bins=25)\n",
    "sns.violinplot(resp6[resp6.evrmarry==1].agemarry.dropna(),resp6.marendhx)\n"
   ]
  },
  {
   "cell_type": "code",
   "execution_count": 24,
   "metadata": {
    "collapsed": false
   },
   "outputs": [
    {
     "data": {
      "text/plain": [
       "<matplotlib.axes._subplots.AxesSubplot at 0x157ebd1cc0>"
      ]
     },
     "execution_count": 24,
     "metadata": {},
     "output_type": "execute_result"
    },
    {
     "data": {
      "image/png": "[encoded data removed]",
      "text/plain": [
       "<matplotlib.figure.Figure at 0x1500060f60>"
      ]
     },
     "metadata": {},
     "output_type": "display_data"
    }
   ],
   "source": [
    "sns.violinplot(resp6[resp6.evrmarry==1].agemarry.dropna(),resp6.marendhx)"
   ]
  },
  {
   "cell_type": "markdown",
   "metadata": {
    "collapsed": false
   },
   "source": [
    "Create a new dataframe with only those respondents who have ever been married (evrmarry==1) 4126 rows."
   ]
  },
  {
   "cell_type": "markdown",
   "metadata": {
    "collapsed": true
   },
   "source": [
    "#making a copy doesn't seem to work so I will just downsize the original resp6 dataframe to include only evermarrieds\n",
    "resp6mar=resp6.copy"
   ]
  },
  {
   "cell_type": "code",
   "execution_count": 25,
   "metadata": {
    "collapsed": false
   },
   "outputs": [
    {
     "name": "stdout",
     "output_type": "stream",
     "text": [
      "(7643, 3089)\n"
     ]
    }
   ],
   "source": [
    "print(resp6.shape)"
   ]
  },
  {
   "cell_type": "code",
   "execution_count": 26,
   "metadata": {
    "collapsed": false
   },
   "outputs": [],
   "source": [
    "resp6=resp6[resp6.evrmarry==1]"
   ]
  },
  {
   "cell_type": "code",
   "execution_count": 27,
   "metadata": {
    "collapsed": false
   },
   "outputs": [
    {
     "name": "stdout",
     "output_type": "stream",
     "text": [
      "(4126, 3089)\n"
     ]
    }
   ],
   "source": [
    "print(resp6.shape)"
   ]
  },
  {
   "cell_type": "code",
   "execution_count": 28,
   "metadata": {
    "collapsed": false
   },
   "outputs": [
    {
     "data": {
      "text/plain": [
       "caseid             4126\n",
       "rscrinf            4126\n",
       "rdormres           4126\n",
       "rostscrn           4126\n",
       "rscreenhisp        4126\n",
       "rscreenrace        4122\n",
       "age_a              4126\n",
       "age_r              4126\n",
       "cmbirth            4126\n",
       "agescrn            4126\n",
       "marstat            4126\n",
       "fmarstat            161\n",
       "fmarit             4126\n",
       "evrmarry           4126\n",
       "hisp               4126\n",
       "hispgrp             891\n",
       "numrace            4126\n",
       "roscnt             4126\n",
       "hplocale           3241\n",
       "manrel             3171\n",
       "fl_rage            4126\n",
       "fl_rrace           4126\n",
       "fl_rhisp           4126\n",
       "goschol            4126\n",
       "vaca                456\n",
       "higrade            4126\n",
       "compgrd            4116\n",
       "havedip            4086\n",
       "dipged             3553\n",
       "cmhsgrad           3194\n",
       "                   ... \n",
       "invitro_i          4126\n",
       "endomet_i          4126\n",
       "fibroids_i         4126\n",
       "pidtreat_i         4126\n",
       "evhivtst_i         4126\n",
       "insuranc           4126\n",
       "metro              4126\n",
       "religion           4126\n",
       "laborfor           4126\n",
       "insuranc_i         4126\n",
       "metro_i            4126\n",
       "religion_i         4126\n",
       "laborfor_i         4126\n",
       "poverty            4126\n",
       "totincr            4126\n",
       "pubassis           4126\n",
       "poverty_i          4126\n",
       "totincr_i          4126\n",
       "pubassis_i         4126\n",
       "basewgt            4126\n",
       "adj_mod_basewgt    4126\n",
       "finalwgt           4126\n",
       "secu_r             4126\n",
       "sest               4126\n",
       "cmintvw            4126\n",
       "cmlstyr            4126\n",
       "screentime         4126\n",
       "intvlngth          4126\n",
       "agemarry           4089\n",
       "age                4126\n",
       "dtype: int64"
      ]
     },
     "execution_count": 28,
     "metadata": {},
     "output_type": "execute_result"
    }
   ],
   "source": [
    "resp6[resp6.evrmarry==1].count()"
   ]
  },
  {
   "cell_type": "code",
   "execution_count": null,
   "metadata": {
    "collapsed": true
   },
   "outputs": [],
   "source": []
  },
  {
   "cell_type": "markdown",
   "metadata": {
    "collapsed": false
   },
   "source": [
    "#resp6.replace([9998,9998,9999], np.nan, inplace=True)\n",
    "#resp6['agemarry']= (resp6.cmmarrhx-resp6.cmbirth)/12.0\n",
    "#resp6['age']=(resp6.cmintvw - resp6.cmbirth)/12.0"
   ]
  },
  {
   "cell_type": "code",
   "execution_count": 29,
   "metadata": {
    "collapsed": true
   },
   "outputs": [],
   "source": [
    "complete=resp6[resp6.evrmarry==1].agemarry.dropna()"
   ]
  },
  {
   "cell_type": "code",
   "execution_count": 30,
   "metadata": {
    "collapsed": false
   },
   "outputs": [],
   "source": [
    "ongoing=resp6[resp6.evrmarry==0].age"
   ]
  },
  {
   "cell_type": "code",
   "execution_count": 31,
   "metadata": {
    "collapsed": true
   },
   "outputs": [],
   "source": [
    "#from collections import Counter\n",
    "#The following code is from Think Stats 2 by Downey"
   ]
  },
  {
   "cell_type": "code",
   "execution_count": 32,
   "metadata": {
    "collapsed": false
   },
   "outputs": [],
   "source": [
    "def EstimateHazardFunction(complete, ongoing,label='',verbose=False):\n",
    "    if np.sum(np.isnan(complete)):\n",
    "        raise ValueError(\"complete contains NaNs\")\n",
    "    if np.sum(np.isnan(ongoing)):\n",
    "        raise ValueError(\"ongoing contains NaNs\")\n",
    "    \n",
    "    hist_complete = Counter(complete)\n",
    "    hist_ongoing = Counter(ongoing)\n",
    "    \n",
    "    ts=list(hist_complete | hist_ongoing)\n",
    "    ts.sort()\n",
    "    \n",
    "    at_risk = len(complete) + len(ongoing)\n",
    "    \n",
    "    lams=pd.Series(index=ts)\n",
    "    for t in ts:\n",
    "        ended = hist_complete[t]\n",
    "        censored = hist_ongoing[t]\n",
    "        \n",
    "        lams[t]=ended/at_risk\n",
    "        if verbose:\n",
    "            print(t, at_risk, ended, censored, lams[t])\n",
    "        at_risk -= ended+censored\n",
    "        \n",
    "    return survival.HazardFunction(lams, label=label)\n",
    "\n",
    "        "
   ]
  },
  {
   "cell_type": "code",
   "execution_count": 33,
   "metadata": {
    "collapsed": false
   },
   "outputs": [
    {
     "data": {
      "image/png": "[encoded data removed]",
      "text/plain": [
       "<matplotlib.figure.Figure at 0x157a3bb8d0>"
      ]
     },
     "metadata": {},
     "output_type": "display_data"
    }
   ],
   "source": [
    "hf = EstimateHazardFunction(complete,ongoing)\n",
    "thinkplot.Plot(hf)\n",
    "thinkplot.Config(xlabel='Age (years)',ylabel='Hazard')"
   ]
  },
  {
   "cell_type": "code",
   "execution_count": 34,
   "metadata": {
    "collapsed": false
   },
   "outputs": [
    {
     "data": {
      "image/png": "[encoded data removed]",
      "text/plain": [
       "<matplotlib.figure.Figure at 0x1577eb7518>"
      ]
     },
     "metadata": {},
     "output_type": "display_data"
    }
   ],
   "source": [
    "sf=hf.MakeSurvival()\n",
    "thinkplot.Plot(sf)\n",
    "thinkplot.Config(xlabel='Age(years)',\n",
    "                 ylabel='Prob unmarried',\n",
    "                 ylim=[0,1])"
   ]
  },
  {
   "cell_type": "code",
   "execution_count": 35,
   "metadata": {
    "collapsed": false
   },
   "outputs": [
    {
     "data": {
      "text/plain": [
       "caseid             4126\n",
       "rscrinf            4126\n",
       "rdormres           4126\n",
       "rostscrn           4126\n",
       "rscreenhisp        4126\n",
       "rscreenrace        4122\n",
       "age_a              4126\n",
       "age_r              4126\n",
       "cmbirth            4126\n",
       "agescrn            4126\n",
       "marstat            4126\n",
       "fmarstat            161\n",
       "fmarit             4126\n",
       "evrmarry           4126\n",
       "hisp               4126\n",
       "hispgrp             891\n",
       "numrace            4126\n",
       "roscnt             4126\n",
       "hplocale           3241\n",
       "manrel             3171\n",
       "fl_rage            4126\n",
       "fl_rrace           4126\n",
       "fl_rhisp           4126\n",
       "goschol            4126\n",
       "vaca                456\n",
       "higrade            4126\n",
       "compgrd            4116\n",
       "havedip            4086\n",
       "dipged             3553\n",
       "cmhsgrad           3194\n",
       "                   ... \n",
       "invitro_i          4126\n",
       "endomet_i          4126\n",
       "fibroids_i         4126\n",
       "pidtreat_i         4126\n",
       "evhivtst_i         4126\n",
       "insuranc           4126\n",
       "metro              4126\n",
       "religion           4126\n",
       "laborfor           4126\n",
       "insuranc_i         4126\n",
       "metro_i            4126\n",
       "religion_i         4126\n",
       "laborfor_i         4126\n",
       "poverty            4126\n",
       "totincr            4126\n",
       "pubassis           4126\n",
       "poverty_i          4126\n",
       "totincr_i          4126\n",
       "pubassis_i         4126\n",
       "basewgt            4126\n",
       "adj_mod_basewgt    4126\n",
       "finalwgt           4126\n",
       "secu_r             4126\n",
       "sest               4126\n",
       "cmintvw            4126\n",
       "cmlstyr            4126\n",
       "screentime         4126\n",
       "intvlngth          4126\n",
       "agemarry           4089\n",
       "age                4126\n",
       "dtype: int64"
      ]
     },
     "execution_count": 35,
     "metadata": {},
     "output_type": "execute_result"
    }
   ],
   "source": [
    "resp6[resp6.evrmarry==1].count()"
   ]
  },
  {
   "cell_type": "code",
   "execution_count": 36,
   "metadata": {
    "collapsed": false
   },
   "outputs": [
    {
     "data": {
      "text/plain": [
       "caseid             4126\n",
       "rscrinf            4126\n",
       "rdormres           4126\n",
       "rostscrn           4126\n",
       "rscreenhisp        4126\n",
       "rscreenrace        4122\n",
       "age_a              4126\n",
       "age_r              4126\n",
       "cmbirth            4126\n",
       "agescrn            4126\n",
       "marstat            4126\n",
       "fmarstat            161\n",
       "fmarit             4126\n",
       "evrmarry           4126\n",
       "hisp               4126\n",
       "hispgrp             891\n",
       "numrace            4126\n",
       "roscnt             4126\n",
       "hplocale           3241\n",
       "manrel             3171\n",
       "fl_rage            4126\n",
       "fl_rrace           4126\n",
       "fl_rhisp           4126\n",
       "goschol            4126\n",
       "vaca                456\n",
       "higrade            4126\n",
       "compgrd            4116\n",
       "havedip            4086\n",
       "dipged             3553\n",
       "cmhsgrad           3194\n",
       "                   ... \n",
       "invitro_i          4126\n",
       "endomet_i          4126\n",
       "fibroids_i         4126\n",
       "pidtreat_i         4126\n",
       "evhivtst_i         4126\n",
       "insuranc           4126\n",
       "metro              4126\n",
       "religion           4126\n",
       "laborfor           4126\n",
       "insuranc_i         4126\n",
       "metro_i            4126\n",
       "religion_i         4126\n",
       "laborfor_i         4126\n",
       "poverty            4126\n",
       "totincr            4126\n",
       "pubassis           4126\n",
       "poverty_i          4126\n",
       "totincr_i          4126\n",
       "pubassis_i         4126\n",
       "basewgt            4126\n",
       "adj_mod_basewgt    4126\n",
       "finalwgt           4126\n",
       "secu_r             4126\n",
       "sest               4126\n",
       "cmintvw            4126\n",
       "cmlstyr            4126\n",
       "screentime         4126\n",
       "intvlngth          4126\n",
       "agemarry           4089\n",
       "age                4126\n",
       "dtype: int64"
      ]
     },
     "execution_count": 36,
     "metadata": {},
     "output_type": "execute_result"
    }
   ],
   "source": [
    "resp6.count()"
   ]
  },
  {
   "cell_type": "code",
   "execution_count": 37,
   "metadata": {
    "collapsed": false
   },
   "outputs": [
    {
     "data": {
      "text/html": [
       "<div>\n",
       "<table border=\"1\" class=\"dataframe\">\n",
       "  <thead>\n",
       "    <tr style=\"text-align: right;\">\n",
       "      <th></th>\n",
       "      <th>caseid</th>\n",
       "      <th>rscrinf</th>\n",
       "      <th>rdormres</th>\n",
       "      <th>rostscrn</th>\n",
       "      <th>rscreenhisp</th>\n",
       "      <th>rscreenrace</th>\n",
       "      <th>age_a</th>\n",
       "      <th>age_r</th>\n",
       "      <th>cmbirth</th>\n",
       "      <th>agescrn</th>\n",
       "      <th>...</th>\n",
       "      <th>adj_mod_basewgt</th>\n",
       "      <th>finalwgt</th>\n",
       "      <th>secu_r</th>\n",
       "      <th>sest</th>\n",
       "      <th>cmintvw</th>\n",
       "      <th>cmlstyr</th>\n",
       "      <th>screentime</th>\n",
       "      <th>intvlngth</th>\n",
       "      <th>agemarry</th>\n",
       "      <th>age</th>\n",
       "    </tr>\n",
       "  </thead>\n",
       "  <tbody>\n",
       "    <tr>\n",
       "      <th>1</th>\n",
       "      <td>5012</td>\n",
       "      <td>1</td>\n",
       "      <td>5</td>\n",
       "      <td>1</td>\n",
       "      <td>5</td>\n",
       "      <td>5.0</td>\n",
       "      <td>42</td>\n",
       "      <td>42</td>\n",
       "      <td>718</td>\n",
       "      <td>42</td>\n",
       "      <td>...</td>\n",
       "      <td>2846.799490</td>\n",
       "      <td>4744.191350</td>\n",
       "      <td>2</td>\n",
       "      <td>18</td>\n",
       "      <td>1233</td>\n",
       "      <td>1221</td>\n",
       "      <td>16:30:59</td>\n",
       "      <td>64.294000</td>\n",
       "      <td>21.333333</td>\n",
       "      <td>42.916667</td>\n",
       "    </tr>\n",
       "    <tr>\n",
       "      <th>2</th>\n",
       "      <td>11586</td>\n",
       "      <td>1</td>\n",
       "      <td>5</td>\n",
       "      <td>1</td>\n",
       "      <td>5</td>\n",
       "      <td>5.0</td>\n",
       "      <td>43</td>\n",
       "      <td>43</td>\n",
       "      <td>708</td>\n",
       "      <td>43</td>\n",
       "      <td>...</td>\n",
       "      <td>2846.799490</td>\n",
       "      <td>4744.191350</td>\n",
       "      <td>2</td>\n",
       "      <td>18</td>\n",
       "      <td>1234</td>\n",
       "      <td>1222</td>\n",
       "      <td>18:19:09</td>\n",
       "      <td>75.149167</td>\n",
       "      <td>16.833333</td>\n",
       "      <td>43.833333</td>\n",
       "    </tr>\n",
       "    <tr>\n",
       "      <th>5</th>\n",
       "      <td>845</td>\n",
       "      <td>1</td>\n",
       "      <td>5</td>\n",
       "      <td>4</td>\n",
       "      <td>1</td>\n",
       "      <td>5.0</td>\n",
       "      <td>42</td>\n",
       "      <td>42</td>\n",
       "      <td>727</td>\n",
       "      <td>42</td>\n",
       "      <td>...</td>\n",
       "      <td>3725.796795</td>\n",
       "      <td>4705.681352</td>\n",
       "      <td>2</td>\n",
       "      <td>18</td>\n",
       "      <td>1234</td>\n",
       "      <td>1222</td>\n",
       "      <td>17:10:13</td>\n",
       "      <td>95.488000</td>\n",
       "      <td>17.500000</td>\n",
       "      <td>42.250000</td>\n",
       "    </tr>\n",
       "    <tr>\n",
       "      <th>8</th>\n",
       "      <td>8656</td>\n",
       "      <td>5</td>\n",
       "      <td>5</td>\n",
       "      <td>4</td>\n",
       "      <td>1</td>\n",
       "      <td>5.0</td>\n",
       "      <td>38</td>\n",
       "      <td>38</td>\n",
       "      <td>780</td>\n",
       "      <td>38</td>\n",
       "      <td>...</td>\n",
       "      <td>6027.568848</td>\n",
       "      <td>6520.021223</td>\n",
       "      <td>2</td>\n",
       "      <td>18</td>\n",
       "      <td>1237</td>\n",
       "      <td>1225</td>\n",
       "      <td>15:32:34</td>\n",
       "      <td>56.978833</td>\n",
       "      <td>18.583333</td>\n",
       "      <td>38.083333</td>\n",
       "    </tr>\n",
       "    <tr>\n",
       "      <th>10</th>\n",
       "      <td>5917</td>\n",
       "      <td>1</td>\n",
       "      <td>5</td>\n",
       "      <td>3</td>\n",
       "      <td>1</td>\n",
       "      <td>5.0</td>\n",
       "      <td>44</td>\n",
       "      <td>43</td>\n",
       "      <td>714</td>\n",
       "      <td>43</td>\n",
       "      <td>...</td>\n",
       "      <td>2762.143030</td>\n",
       "      <td>3488.586646</td>\n",
       "      <td>2</td>\n",
       "      <td>18</td>\n",
       "      <td>1233</td>\n",
       "      <td>1221</td>\n",
       "      <td>15:38:06</td>\n",
       "      <td>96.850167</td>\n",
       "      <td>19.916667</td>\n",
       "      <td>43.250000</td>\n",
       "    </tr>\n",
       "  </tbody>\n",
       "</table>\n",
       "<p>5 rows × 3089 columns</p>\n",
       "</div>"
      ],
      "text/plain": [
       "    caseid  rscrinf  rdormres  rostscrn  rscreenhisp  rscreenrace  age_a  \\\n",
       "1     5012        1         5         1            5          5.0     42   \n",
       "2    11586        1         5         1            5          5.0     43   \n",
       "5      845        1         5         4            1          5.0     42   \n",
       "8     8656        5         5         4            1          5.0     38   \n",
       "10    5917        1         5         3            1          5.0     44   \n",
       "\n",
       "    age_r  cmbirth  agescrn    ...      adj_mod_basewgt     finalwgt  secu_r  \\\n",
       "1      42      718       42    ...          2846.799490  4744.191350       2   \n",
       "2      43      708       43    ...          2846.799490  4744.191350       2   \n",
       "5      42      727       42    ...          3725.796795  4705.681352       2   \n",
       "8      38      780       38    ...          6027.568848  6520.021223       2   \n",
       "10     43      714       43    ...          2762.143030  3488.586646       2   \n",
       "\n",
       "    sest  cmintvw  cmlstyr  screentime  intvlngth   agemarry        age  \n",
       "1     18     1233     1221    16:30:59  64.294000  21.333333  42.916667  \n",
       "2     18     1234     1222    18:19:09  75.149167  16.833333  43.833333  \n",
       "5     18     1234     1222    17:10:13  95.488000  17.500000  42.250000  \n",
       "8     18     1237     1225    15:32:34  56.978833  18.583333  38.083333  \n",
       "10    18     1233     1221    15:38:06  96.850167  19.916667  43.250000  \n",
       "\n",
       "[5 rows x 3089 columns]"
      ]
     },
     "execution_count": 37,
     "metadata": {},
     "output_type": "execute_result"
    }
   ],
   "source": [
    "resp6.head(5)"
   ]
  },
  {
   "cell_type": "markdown",
   "metadata": {
    "collapsed": false
   },
   "source": [
    "#create a new column 'everdivorced' where if marend ==2 everdivorced=1 else everdivorced = 0\n",
    "#This worked but it's not what I need\n",
    "#resp6['evrdivorced'] = resp6.marendhx\n",
    "Try:\n",
    "resp6['evrdivorced'] = np.where((resp6.marendhx==2), 1),\n",
    "          np.where((resp6.marendhx!=2), 0,20))  "
   ]
  },
  {
   "cell_type": "code",
   "execution_count": 38,
   "metadata": {
    "collapsed": false
   },
   "outputs": [],
   "source": [
    "resp6['evrdivorced'] = np.where((resp6.marendhx==2), 1, np.where((resp6.marendhx!=2), 0,20))"
   ]
  },
  {
   "cell_type": "markdown",
   "metadata": {},
   "source": [
    "Check to see if column was added:"
   ]
  },
  {
   "cell_type": "code",
   "execution_count": 39,
   "metadata": {
    "collapsed": false
   },
   "outputs": [
    {
     "name": "stdout",
     "output_type": "stream",
     "text": [
      "<class 'pandas.core.frame.DataFrame'>\n",
      "Int64Index: 4126 entries, 1 to 7638\n",
      "Columns: 3090 entries, caseid to evrdivorced\n",
      "dtypes: float64(2493), int32(1), int64(595), object(1)\n",
      "memory usage: 97.3+ MB\n"
     ]
    }
   ],
   "source": [
    "resp6.info()"
   ]
  },
  {
   "cell_type": "code",
   "execution_count": 40,
   "metadata": {
    "collapsed": false
   },
   "outputs": [],
   "source": [
    "#resp6['evrdivorced'].info()"
   ]
  },
  {
   "cell_type": "code",
   "execution_count": 41,
   "metadata": {
    "collapsed": false
   },
   "outputs": [
    {
     "data": {
      "text/plain": [
       "array([1, 0], dtype=int64)"
      ]
     },
     "execution_count": 41,
     "metadata": {},
     "output_type": "execute_result"
    }
   ],
   "source": [
    "resp6.evrdivorced.unique()"
   ]
  },
  {
   "cell_type": "code",
   "execution_count": 42,
   "metadata": {
    "collapsed": false
   },
   "outputs": [
    {
     "data": {
      "text/plain": [
       "array([  2.,  nan,   1.,   3.,   9.,   8.])"
      ]
     },
     "execution_count": 42,
     "metadata": {},
     "output_type": "execute_result"
    }
   ],
   "source": [
    "resp6.marendhx.unique()"
   ]
  },
  {
   "cell_type": "code",
   "execution_count": 43,
   "metadata": {
    "collapsed": false
   },
   "outputs": [],
   "source": [
    "#DataFrame.corr(method='pearson', min_periods=1)[source]¶\n",
    "#resp6.corr(method='pearson')"
   ]
  },
  {
   "cell_type": "code",
   "execution_count": 44,
   "metadata": {
    "collapsed": false
   },
   "outputs": [],
   "source": [
    "#sns.heatmap(corrmat)"
   ]
  },
  {
   "cell_type": "code",
   "execution_count": 45,
   "metadata": {
    "collapsed": false
   },
   "outputs": [],
   "source": [
    "#corrmat.to_csv('corrmat.csv', sep=',', encoding='utf-8')"
   ]
  },
  {
   "cell_type": "code",
   "execution_count": 46,
   "metadata": {
    "collapsed": true
   },
   "outputs": [],
   "source": [
    "#resp6.to_csv('resp6.csv', sep=',', encoding='utf-8')"
   ]
  },
  {
   "cell_type": "markdown",
   "metadata": {
    "collapsed": true
   },
   "source": [
    "#****** This is where I eliminate a large number of variables"
   ]
  },
  {
   "cell_type": "code",
   "execution_count": 47,
   "metadata": {
    "collapsed": true
   },
   "outputs": [],
   "source": [
    "#this is first purge with about 200 variables remaining\n",
    "#resp6 = resp6[['caseid', 'rostscrn', 'rscreenrace', 'age_r', 'roscnt', 'goschol', 'higrade', 'compgrd', 'havedip', 'dipged', 'havedeg', 'degrees', 'onown', 'intact', 'parmarr', 'lvsit14f', 'lvsit14m', 'momdegre', 'momworkd', 'momchild', 'momfstch', 'manrasdu', 'daddegre', 'intact18', 'onown18', 'numbabes', 'totplacd', 'ndied', 'hasbabes', 'menarche', 'numpregs', 'everpreg', 'agemarhx', 'hxagemar', 'lvtoghx', 'engaghx', 'racehx1', 'chedmarn', 'marbefhx', 'kidshx', 'numkdshx', 'kidlivhx', 'agefstsx', 'c_sex18', 'c_sex15', 'c_sex20', 'grfstsx', 'talkpar1', 'pledge', 'fpage', 'fprelage', 'fprelyrs', 'knowfp', 'agesxafm', 'afmen18', 'afmen15', 'afmen20', 'lifeprt', 'ptsb4mar', 'lifeprts', 'evertubs', 'everhyst', 'everovrs', 'everothr', 'anyfster', 'rsurgstr', 'posiblpg', 'reasimpr', 'canhaver', 'pregnono', 'rstrstat', 'pill', 'condom', 'vasectmy', 'widrawal', 'depoprov', 'norplant', 'rhythm', 'tempsafe', 'mornpill', 'ectimesx', 'nometh', 'nometh2', 'mthfrsts01', 'mthfstsx01', 'pap12', 'pelvic12', 'rwant', 'typallpg', 'hlpmc', 'infrtprb', 'diabetes', 'ovacyst', 'uf', 'endo', 'ovuprob', 'limited', 'equipmnt', 'cover12', 'brnout', 'paydu', 'relraisd', 'attnd14', 'relcurr', 'fundam', 'reldlife', 'attndnow', 'evwrk6mo', 'cmbfstwk', 'evrntwrk', 'wrk12mos', 'fpt12mos', 'dolastwk1', 'rwrkst', 'everwork', 'rpayjob', 'rnumjob', 'rftptx', 'rearnty', 'better', 'staytog', 'samesex', 'anyact', 'sxok18', 'sxok16', 'chreward', 'chsuppor', 'gayadopt', 'okcohab', 'warm', 'achieve', 'family', 'chbother', 'lessplsr', 'wage', 'selfinc', 'socsec', 'disabil', 'retire', 'ssi', 'unemp', 'interest', 'dividend', 'toincwmy', 'totinc', 'pubasst', 'pubastyp1', 'foodstmp', 'wic', 'hlptrans', 'hlpchldc', 'hlpjob', 'ager', 'educat', 'hieduc', 'hispanic', 'race', 'hisprace', 'numkdhh', 'numfmhh', 'intctfam', 'parage14', 'educmom', 'agemomb1', 'compreg', 'lossnum', 'abortion', 'lbpregs', 'parity', 'births5', 'outcom01', 'ageprg01', 'agecon01', 'cebow', 'cebowc', 'agebaby1', 'liv1chld', 'fmar1age', 'b1premar', 'cohever', 'vry1stag', 'sex1age', 'fsexpage', 'fecund', 'infert', 'condomr', 'sex1mthd1', 'oldwp01', 'wantrp01', 'wantp01', 'fptit12', 'fptitmed', 'anyprghp', 'anymschp', 'infever', 'evhivtst', 'insuranc', 'metro', 'religion', 'laborfor', 'poverty', 'totincr', 'pubassis', 'agemarry', 'evrdivorced']].copy()"
   ]
  },
  {
   "cell_type": "code",
   "execution_count": 48,
   "metadata": {
    "collapsed": false
   },
   "outputs": [],
   "source": [
    "#this is second purge with about 100 variables remaining\n",
    "#resp6 = resp6[['caseid', 'rscreenrace', 'age_r', 'roscnt', 'goschol', 'higrade', 'havedip', 'dipged', 'havedeg', 'degrees', 'parmarr', 'lvsit14f', 'lvsit14m','momdegre', 'momworkd', 'momchild', 'momfstch', 'manrasdu', 'daddegre', 'intact18', 'onown18', 'numbabes', 'totplacd', 'ndied', 'hasbabes', 'menarche', 'numpregs', 'everpreg', 'hxagemar', 'lvtoghx', 'marbefhx', 'kidshx', 'agefstsx', 'knowfp', 'lifeprt', 'ptsb4mar', 'lifeprts', 'evertubs', 'anyfster', 'rsurgstr', 'rstrstat', 'pill', 'condom', 'rhythm', 'tempsafe', 'mornpill', 'rwant', 'diabetes', 'ovacyst', 'uf', 'endo', 'ovuprob', 'limited', 'equipmnt', 'cover12', 'brnout', 'paydu', 'relraisd', 'relcurr', 'attndnow', 'evwrk6mo', 'wrk12mos', 'everwork', 'rearnty', 'better', 'staytog', 'samesex', 'sxok18', 'sxok16', 'chreward', 'chsuppor', 'gayadopt', 'okcohab', 'warm', 'achieve', 'family', 'chbother', 'totinc', 'ager', 'educat', 'hispanic', 'race', 'numkdhh', 'numfmhh', 'intctfam', 'educmom', 'parity', 'fmar1age', 'cohever', 'vry1stag', 'fecund', 'insuranc', 'metro', 'religion', 'laborfor', 'poverty', 'totincr', 'pubassis', 'agemarry', 'evrdivorced']].copy() "
   ]
  },
  {
   "cell_type": "code",
   "execution_count": 49,
   "metadata": {
    "collapsed": true
   },
   "outputs": [],
   "source": [
    "#this is third purge to get rid of variables with nulls, 79 remaining variables\n",
    "#resp6 = resp6[['caseid', 'roscnt', 'parmarr',  'intact18', 'onown18', 'numbabes', 'totplacd', 'ndied', 'hasbabes', 'menarche', 'numpregs', 'everpreg','knowfp', 'lifeprt', 'ptsb4mar', 'lifeprts', 'evertubs', 'anyfster', 'rsurgstr', 'rstrstat', 'pill', 'condom', 'rhythm', 'tempsafe', 'mornpill', 'rwant', 'diabetes', 'ovacyst', 'uf', 'endo', 'ovuprob', 'limited', 'equipmnt', 'cover12', 'brnout', 'paydu', 'relraisd', 'relcurr', 'attndnow', 'evwrk6mo', 'wrk12mos', 'everwork', 'rearnty', 'better', 'staytog', 'samesex', 'sxok18', 'sxok16', 'chreward', 'chsuppor', 'gayadopt', 'okcohab', 'warm', 'achieve', 'family', 'chbother', 'totinc', 'ager', 'educat', 'hispanic', 'race', 'numkdhh', 'numfmhh', 'intctfam', 'educmom', 'parity', 'fmar1age', 'cohever', 'fecund', 'insuranc', 'metro', 'religion', 'laborfor', 'totincr', 'pubassis']].copy()"
   ]
  },
  {
   "cell_type": "code",
   "execution_count": 50,
   "metadata": {
    "collapsed": true
   },
   "outputs": [],
   "source": [
    "#fourth time to add back in higrade since it's needed for a visualization (removed lvisit14f variable because of null values, then removed rsscreenrace because of 7 null values)\n",
    "resp6 = resp6[['caseid', 'roscnt','higrade', 'parmarr',  'intact18', 'onown18', 'numbabes', 'ndied', 'hasbabes', 'menarche', 'numpregs', 'everpreg', 'knowfp', 'lifeprt', 'ptsb4mar', 'lifeprts', 'evertubs', 'anyfster', 'rsurgstr', 'rstrstat', 'pill', 'condom', 'rhythm', 'tempsafe', 'mornpill', 'rwant', 'diabetes', 'ovacyst', 'uf', 'endo', 'ovuprob', 'limited', 'equipmnt', 'cover12', 'brnout', 'paydu', 'relraisd', 'relcurr', 'attndnow', 'evwrk6mo', 'wrk12mos', 'everwork', 'rearnty', 'better', 'staytog', 'samesex', 'sxok18', 'sxok16', 'chreward', 'chsuppor', 'gayadopt', 'okcohab', 'warm', 'achieve', 'family', 'totinc', 'ager', 'educat', 'hispanic', 'race', 'numkdhh', 'numfmhh', 'intctfam', 'educmom', 'parity', 'fmar1age', 'cohever', 'vry1stag', 'fecund', 'insuranc', 'metro', 'religion', 'laborfor', 'poverty', 'totincr', 'pubassis', 'agemarry', 'evrdivorced']].copy()"
   ]
  },
  {
   "cell_type": "code",
   "execution_count": 51,
   "metadata": {
    "collapsed": false
   },
   "outputs": [
    {
     "name": "stdout",
     "output_type": "stream",
     "text": [
      "<class 'pandas.core.frame.DataFrame'>\n",
      "Int64Index: 4126 entries, 1 to 7638\n",
      "Data columns (total 78 columns):\n",
      "caseid         4126 non-null int64\n",
      "roscnt         4126 non-null int64\n",
      "higrade        4126 non-null int64\n",
      "parmarr        4126 non-null int64\n",
      "intact18       4126 non-null int64\n",
      "onown18        4126 non-null int64\n",
      "numbabes       4126 non-null int64\n",
      "ndied          4126 non-null int64\n",
      "hasbabes       4126 non-null int64\n",
      "menarche       4126 non-null int64\n",
      "numpregs       4126 non-null float64\n",
      "everpreg       4126 non-null int64\n",
      "knowfp         4126 non-null float64\n",
      "lifeprt        4126 non-null float64\n",
      "ptsb4mar       4126 non-null float64\n",
      "lifeprts       4126 non-null int64\n",
      "evertubs       4126 non-null int64\n",
      "anyfster       4126 non-null int64\n",
      "rsurgstr       4126 non-null int64\n",
      "rstrstat       4126 non-null int64\n",
      "pill           4126 non-null int64\n",
      "condom         4126 non-null float64\n",
      "rhythm         4126 non-null float64\n",
      "tempsafe       4126 non-null float64\n",
      "mornpill       4126 non-null float64\n",
      "rwant          4126 non-null int64\n",
      "diabetes       4126 non-null int64\n",
      "ovacyst        4126 non-null int64\n",
      "uf             4126 non-null int64\n",
      "endo           4126 non-null int64\n",
      "ovuprob        4126 non-null int64\n",
      "limited        4126 non-null int64\n",
      "equipmnt       4126 non-null int64\n",
      "cover12        4126 non-null int64\n",
      "brnout         4126 non-null int64\n",
      "paydu          4126 non-null int64\n",
      "relraisd       4126 non-null int64\n",
      "relcurr        4126 non-null int64\n",
      "attndnow       4126 non-null int64\n",
      "evwrk6mo       4126 non-null int64\n",
      "wrk12mos       4126 non-null int64\n",
      "everwork       4126 non-null int64\n",
      "rearnty        4126 non-null int64\n",
      "better         4126 non-null int64\n",
      "staytog        4126 non-null int64\n",
      "samesex        4126 non-null int64\n",
      "sxok18         4126 non-null int64\n",
      "sxok16         4126 non-null int64\n",
      "chreward       4126 non-null int64\n",
      "chsuppor       4126 non-null int64\n",
      "gayadopt       4126 non-null int64\n",
      "okcohab        4126 non-null int64\n",
      "warm           4126 non-null int64\n",
      "achieve        4126 non-null int64\n",
      "family         4126 non-null int64\n",
      "totinc         4126 non-null int64\n",
      "ager           4126 non-null int64\n",
      "educat         4126 non-null int64\n",
      "hispanic       4126 non-null int64\n",
      "race           4126 non-null int64\n",
      "numkdhh        4126 non-null int64\n",
      "numfmhh        4126 non-null int64\n",
      "intctfam       4126 non-null int64\n",
      "educmom        4126 non-null int64\n",
      "parity         4126 non-null int64\n",
      "fmar1age       4126 non-null float64\n",
      "cohever        4126 non-null int64\n",
      "vry1stag       4126 non-null float64\n",
      "fecund         4126 non-null int64\n",
      "insuranc       4126 non-null int64\n",
      "metro          4126 non-null int64\n",
      "religion       4126 non-null int64\n",
      "laborfor       4126 non-null int64\n",
      "poverty        4126 non-null int64\n",
      "totincr        4126 non-null int64\n",
      "pubassis       4126 non-null int64\n",
      "agemarry       4089 non-null float64\n",
      "evrdivorced    4126 non-null int32\n",
      "dtypes: float64(11), int32(1), int64(66)\n",
      "memory usage: 2.5 MB\n"
     ]
    }
   ],
   "source": [
    "resp6.info()"
   ]
  },
  {
   "cell_type": "code",
   "execution_count": 52,
   "metadata": {
    "collapsed": false
   },
   "outputs": [],
   "source": [
    "corrmat=resp6.corr(method='pearson')"
   ]
  },
  {
   "cell_type": "code",
   "execution_count": 53,
   "metadata": {
    "collapsed": false
   },
   "outputs": [
    {
     "data": {
      "text/plain": [
       "<matplotlib.axes._subplots.AxesSubplot at 0x157b4b7780>"
      ]
     },
     "execution_count": 53,
     "metadata": {},
     "output_type": "execute_result"
    },
    {
     "data": {
      "image/png": "[encoded data removed]",
      "text/plain": [
       "<matplotlib.figure.Figure at 0x157b45e7b8>"
      ]
     },
     "metadata": {},
     "output_type": "display_data"
    }
   ],
   "source": [
    "sns.heatmap(corrmat)"
   ]
  },
  {
   "cell_type": "markdown",
   "metadata": {
    "collapsed": false
   },
   "source": [
    "marendhx isn't in the downsized columns so redo using evrdivorced\n",
    "#histogram with highest grade completed\n",
    "ndv=resp6[(resp6.marendhx!=2) & (resp6.evrmarry==1)].higrade.dropna()\n",
    "dv=resp6[(resp6.marendhx==2) & (resp6.evrmarry==1)].higrade.dropna()"
   ]
  },
  {
   "cell_type": "code",
   "execution_count": 54,
   "metadata": {
    "collapsed": false
   },
   "outputs": [],
   "source": [
    "#histogram with highest grade completed\n",
    "ndv=resp6[(resp6.evrdivorced==0)].higrade.dropna()\n",
    "dv=resp6[(resp6.evrdivorced==1)].higrade.dropna()"
   ]
  },
  {
   "cell_type": "code",
   "execution_count": 55,
   "metadata": {
    "collapsed": false
   },
   "outputs": [
    {
     "data": {
      "image/png": "[encoded data removed]",
      "text/plain": [
       "<matplotlib.figure.Figure at 0x157b45ed30>"
      ]
     },
     "metadata": {},
     "output_type": "display_data"
    }
   ],
   "source": [
    "pyplot.hist(dv, bins=20, alpha=0.5, label='divorced')\n",
    "pyplot.hist(ndv, bins=20, alpha=0.5, label='non-divorced')\n",
    "pyplot.legend(loc='upper right')\n",
    "pyplot.show()"
   ]
  },
  {
   "cell_type": "code",
   "execution_count": 56,
   "metadata": {
    "collapsed": false
   },
   "outputs": [
    {
     "data": {
      "image/png": "[encoded data removed]",
      "text/plain": [
       "<matplotlib.figure.Figure at 0x15745e4c50>"
      ]
     },
     "metadata": {},
     "output_type": "display_data"
    }
   ],
   "source": [
    "dvweights = 100 * np.ones_like(dv) / dv.size\n",
    "ndvweights = 100 * np.ones_like(ndv) / ndv.size\n",
    "\n",
    "fig, ax = plt.subplots()\n",
    "ax.hist(dv, weights=dvweights, color='darkblue', alpha=0.5, label='divorced')\n",
    "ax.hist(ndv, weights=ndvweights, color='salmon', alpha=0.5, label='not divorced')\n",
    "\n",
    "ax.set(title='Highest Grade Completed:Blue Divorced, Salmon Not Divorced', ylabel='% of Dataset in Bin')\n",
    "ax.margins(0.05)\n",
    "ax.set_ylim(bottom=0)\n",
    "plt.show()"
   ]
  },
  {
   "cell_type": "code",
   "execution_count": 57,
   "metadata": {
    "collapsed": true
   },
   "outputs": [],
   "source": [
    "#correlate all columns to the target \"everdivorced\"\n",
    "corrmat=resp6.corr(method='pearson')[\"evrdivorced\"]"
   ]
  },
  {
   "cell_type": "code",
   "execution_count": 58,
   "metadata": {
    "collapsed": false
   },
   "outputs": [
    {
     "data": {
      "text/plain": [
       "evrdivorced    1.000000\n",
       "ager           0.212419\n",
       "rstrstat       0.141280\n",
       "brnout         0.102303\n",
       "better         0.101545\n",
       "attndnow       0.100393\n",
       "hispanic       0.078107\n",
       "intctfam       0.077006\n",
       "intact18       0.077006\n",
       "rwant          0.074193\n",
       "okcohab        0.061896\n",
       "wrk12mos       0.061114\n",
       "numpregs       0.049703\n",
       "lifeprt        0.048336\n",
       "parity         0.047146\n",
       "knowfp         0.032854\n",
       "achieve        0.032798\n",
       "lifeprts       0.032373\n",
       "tempsafe       0.027440\n",
       "chreward       0.025666\n",
       "numbabes       0.024908\n",
       "paydu          0.023752\n",
       "ndied          0.022886\n",
       "metro          0.020012\n",
       "pubassis       0.015080\n",
       "educmom        0.012374\n",
       "parmarr        0.011899\n",
       "sxok16         0.008502\n",
       "religion       0.004556\n",
       "insuranc       0.004508\n",
       "Name: evrdivorced, dtype: float64"
      ]
     },
     "execution_count": 58,
     "metadata": {},
     "output_type": "execute_result"
    }
   ],
   "source": [
    "corrmat.nlargest(30)"
   ]
  },
  {
   "cell_type": "code",
   "execution_count": 59,
   "metadata": {
    "collapsed": false
   },
   "outputs": [
    {
     "data": {
      "text/plain": [
       "agemarry   -0.263336\n",
       "fmar1age   -0.260617\n",
       "cohever    -0.208164\n",
       "vry1stag   -0.172224\n",
       "anyfster   -0.158590\n",
       "numfmhh    -0.156118\n",
       "rsurgstr   -0.153307\n",
       "roscnt     -0.150432\n",
       "evertubs   -0.136649\n",
       "fecund     -0.134922\n",
       "Name: evrdivorced, dtype: float64"
      ]
     },
     "execution_count": 59,
     "metadata": {},
     "output_type": "execute_result"
    }
   ],
   "source": [
    "corrmat.nsmallest(10)\n",
    "#resp6['cmmarrhx'].max()\n",
    "#resp6['cmmarrhx'].nlargest(50)"
   ]
  },
  {
   "cell_type": "code",
   "execution_count": 60,
   "metadata": {
    "collapsed": false
   },
   "outputs": [
    {
     "data": {
      "text/plain": [
       "evrdivorced    1.000000\n",
       "ager           0.212419\n",
       "rstrstat       0.141280\n",
       "brnout         0.102303\n",
       "better         0.101545\n",
       "attndnow       0.100393\n",
       "hispanic       0.078107\n",
       "intctfam       0.077006\n",
       "intact18       0.077006\n",
       "rwant          0.074193\n",
       "Name: evrdivorced, dtype: float64"
      ]
     },
     "execution_count": 60,
     "metadata": {},
     "output_type": "execute_result"
    }
   ],
   "source": [
    "corrmat.nlargest(10)"
   ]
  },
  {
   "cell_type": "code",
   "execution_count": 61,
   "metadata": {
    "collapsed": false
   },
   "outputs": [],
   "source": [
    "#resp6.to_csv('resp6.csv', sep=',', encoding='utf-8')\n",
    "#get a list of variables with null values to eliminate in purge3\n",
    "#resp6.isnull().any().to_csv('nullvalues.csv', sep=',', encoding='utf-8')"
   ]
  },
  {
   "cell_type": "code",
   "execution_count": 62,
   "metadata": {
    "collapsed": false
   },
   "outputs": [],
   "source": [
    "#resp6 = resp6[['caseid', 'rostscrn', 'rscreenrace', 'age_r', 'roscnt', 'goschol', 'higrade', 'compgrd', 'havedip', 'dipged', 'havedeg', 'degrees', 'onown', 'intact', 'parmarr', 'lvsit14f', 'lvsit14m', 'momdegre', 'momworkd', 'momchild', 'momfstch', 'manrasdu', 'daddegre', 'intact18', 'onown18', 'numbabes', 'totplacd', 'ndied', 'hasbabes', 'menarche', 'numpregs', 'everpreg', 'agemarhx', 'hxagemar', 'lvtoghx', 'engaghx', 'racehx1', 'chedmarn', 'marbefhx', 'kidshx', 'numkdshx', 'kidlivhx', 'agefstsx', 'c_sex18', 'c_sex15', 'c_sex20', 'grfstsx', 'talkpar1', 'pledge', 'fpage', 'fprelage', 'fprelyrs', 'knowfp', 'agesxafm', 'afmen18', 'afmen15', 'afmen20', 'lifeprt', 'ptsb4mar', 'lifeprts', 'evertubs', 'everhyst', 'everovrs', 'everothr', 'anyfster', 'rsurgstr', 'posiblpg', 'reasimpr', 'canhaver', 'pregnono', 'rstrstat', 'pill', 'condom', 'vasectmy', 'widrawal', 'depoprov', 'norplant', 'rhythm', 'tempsafe', 'mornpill', 'ectimesx', 'nometh', 'nometh2', 'mthfrsts01', 'mthfstsx01', 'pap12', 'pelvic12', 'rwant', 'typallpg', 'hlpmc', 'infrtprb', 'diabetes', 'ovacyst', 'uf', 'endo', 'ovuprob', 'limited', 'equipmnt', 'cover12', 'brnout', 'paydu', 'relraisd', 'attnd14', 'relcurr', 'fundam', 'reldlife', 'attndnow', 'evwrk6mo', 'cmbfstwk', 'evrntwrk', 'wrk12mos', 'fpt12mos', 'dolastwk1', 'rwrkst', 'everwork', 'rpayjob', 'rnumjob', 'rftptx', 'rearnty', 'better', 'staytog', 'samesex', 'anyact', 'sxok18', 'sxok16', 'chreward', 'chsuppor', 'gayadopt', 'okcohab', 'warm', 'achieve', 'family', 'chbother', 'lessplsr', 'wage', 'selfinc', 'socsec', 'disabil', 'retire', 'ssi', 'unemp', 'interest', 'dividend', 'toincwmy', 'totinc', 'pubasst', 'pubastyp1', 'foodstmp', 'wic', 'hlptrans', 'hlpchldc', 'hlpjob', 'ager', 'educat', 'hieduc', 'hispanic', 'race', 'hisprace', 'numkdhh', 'numfmhh', 'intctfam', 'parage14', 'educmom', 'agemomb1', 'compreg', 'lossnum', 'abortion', 'lbpregs', 'parity', 'births5', 'outcom01', 'ageprg01', 'agecon01', 'cebow', 'cebowc', 'agebaby1', 'liv1chld', 'fmar1age', 'b1premar', 'cohever', 'vry1stag', 'sex1age', 'fsexpage', 'fecund', 'infert', 'condomr', 'sex1mthd1', 'oldwp01', 'wantrp01', 'wantp01', 'fptit12', 'fptitmed', 'anyprghp', 'anymschp', 'infever', 'evhivtst', 'insuranc', 'metro', 'religion', 'laborfor', 'poverty', 'totincr', 'pubassis', 'agemarry', 'evrdivorced']].copy()"
   ]
  },
  {
   "cell_type": "code",
   "execution_count": 63,
   "metadata": {
    "collapsed": false
   },
   "outputs": [
    {
     "name": "stdout",
     "output_type": "stream",
     "text": [
      "<class 'pandas.core.frame.DataFrame'>\n",
      "Int64Index: 4126 entries, 1 to 7638\n",
      "Data columns (total 78 columns):\n",
      "caseid         4126 non-null int64\n",
      "roscnt         4126 non-null int64\n",
      "higrade        4126 non-null int64\n",
      "parmarr        4126 non-null int64\n",
      "intact18       4126 non-null int64\n",
      "onown18        4126 non-null int64\n",
      "numbabes       4126 non-null int64\n",
      "ndied          4126 non-null int64\n",
      "hasbabes       4126 non-null int64\n",
      "menarche       4126 non-null int64\n",
      "numpregs       4126 non-null float64\n",
      "everpreg       4126 non-null int64\n",
      "knowfp         4126 non-null float64\n",
      "lifeprt        4126 non-null float64\n",
      "ptsb4mar       4126 non-null float64\n",
      "lifeprts       4126 non-null int64\n",
      "evertubs       4126 non-null int64\n",
      "anyfster       4126 non-null int64\n",
      "rsurgstr       4126 non-null int64\n",
      "rstrstat       4126 non-null int64\n",
      "pill           4126 non-null int64\n",
      "condom         4126 non-null float64\n",
      "rhythm         4126 non-null float64\n",
      "tempsafe       4126 non-null float64\n",
      "mornpill       4126 non-null float64\n",
      "rwant          4126 non-null int64\n",
      "diabetes       4126 non-null int64\n",
      "ovacyst        4126 non-null int64\n",
      "uf             4126 non-null int64\n",
      "endo           4126 non-null int64\n",
      "ovuprob        4126 non-null int64\n",
      "limited        4126 non-null int64\n",
      "equipmnt       4126 non-null int64\n",
      "cover12        4126 non-null int64\n",
      "brnout         4126 non-null int64\n",
      "paydu          4126 non-null int64\n",
      "relraisd       4126 non-null int64\n",
      "relcurr        4126 non-null int64\n",
      "attndnow       4126 non-null int64\n",
      "evwrk6mo       4126 non-null int64\n",
      "wrk12mos       4126 non-null int64\n",
      "everwork       4126 non-null int64\n",
      "rearnty        4126 non-null int64\n",
      "better         4126 non-null int64\n",
      "staytog        4126 non-null int64\n",
      "samesex        4126 non-null int64\n",
      "sxok18         4126 non-null int64\n",
      "sxok16         4126 non-null int64\n",
      "chreward       4126 non-null int64\n",
      "chsuppor       4126 non-null int64\n",
      "gayadopt       4126 non-null int64\n",
      "okcohab        4126 non-null int64\n",
      "warm           4126 non-null int64\n",
      "achieve        4126 non-null int64\n",
      "family         4126 non-null int64\n",
      "totinc         4126 non-null int64\n",
      "ager           4126 non-null int64\n",
      "educat         4126 non-null int64\n",
      "hispanic       4126 non-null int64\n",
      "race           4126 non-null int64\n",
      "numkdhh        4126 non-null int64\n",
      "numfmhh        4126 non-null int64\n",
      "intctfam       4126 non-null int64\n",
      "educmom        4126 non-null int64\n",
      "parity         4126 non-null int64\n",
      "fmar1age       4126 non-null float64\n",
      "cohever        4126 non-null int64\n",
      "vry1stag       4126 non-null float64\n",
      "fecund         4126 non-null int64\n",
      "insuranc       4126 non-null int64\n",
      "metro          4126 non-null int64\n",
      "religion       4126 non-null int64\n",
      "laborfor       4126 non-null int64\n",
      "poverty        4126 non-null int64\n",
      "totincr        4126 non-null int64\n",
      "pubassis       4126 non-null int64\n",
      "agemarry       4089 non-null float64\n",
      "evrdivorced    4126 non-null int32\n",
      "dtypes: float64(11), int32(1), int64(66)\n",
      "memory usage: 2.5 MB\n"
     ]
    }
   ],
   "source": [
    "resp6.info()"
   ]
  },
  {
   "cell_type": "code",
   "execution_count": 64,
   "metadata": {
    "collapsed": false
   },
   "outputs": [],
   "source": [
    "#tried to remove rows with missing values\n",
    "#resp6=resp6.dropna(axis=0)\n",
    "#This leaves only 30 rows so it's not a good idea."
   ]
  },
  {
   "cell_type": "code",
   "execution_count": 65,
   "metadata": {
    "collapsed": false
   },
   "outputs": [
    {
     "name": "stdout",
     "output_type": "stream",
     "text": [
      "(4126, 78)\n"
     ]
    }
   ],
   "source": [
    "print(resp6.shape)"
   ]
  },
  {
   "cell_type": "code",
   "execution_count": 66,
   "metadata": {
    "collapsed": false
   },
   "outputs": [
    {
     "name": "stdout",
     "output_type": "stream",
     "text": [
      "<class 'pandas.core.frame.DataFrame'>\n",
      "Int64Index: 4126 entries, 1 to 7638\n",
      "Data columns (total 78 columns):\n",
      "caseid         4126 non-null int64\n",
      "roscnt         4126 non-null int64\n",
      "higrade        4126 non-null int64\n",
      "parmarr        4126 non-null int64\n",
      "intact18       4126 non-null int64\n",
      "onown18        4126 non-null int64\n",
      "numbabes       4126 non-null int64\n",
      "ndied          4126 non-null int64\n",
      "hasbabes       4126 non-null int64\n",
      "menarche       4126 non-null int64\n",
      "numpregs       4126 non-null float64\n",
      "everpreg       4126 non-null int64\n",
      "knowfp         4126 non-null float64\n",
      "lifeprt        4126 non-null float64\n",
      "ptsb4mar       4126 non-null float64\n",
      "lifeprts       4126 non-null int64\n",
      "evertubs       4126 non-null int64\n",
      "anyfster       4126 non-null int64\n",
      "rsurgstr       4126 non-null int64\n",
      "rstrstat       4126 non-null int64\n",
      "pill           4126 non-null int64\n",
      "condom         4126 non-null float64\n",
      "rhythm         4126 non-null float64\n",
      "tempsafe       4126 non-null float64\n",
      "mornpill       4126 non-null float64\n",
      "rwant          4126 non-null int64\n",
      "diabetes       4126 non-null int64\n",
      "ovacyst        4126 non-null int64\n",
      "uf             4126 non-null int64\n",
      "endo           4126 non-null int64\n",
      "ovuprob        4126 non-null int64\n",
      "limited        4126 non-null int64\n",
      "equipmnt       4126 non-null int64\n",
      "cover12        4126 non-null int64\n",
      "brnout         4126 non-null int64\n",
      "paydu          4126 non-null int64\n",
      "relraisd       4126 non-null int64\n",
      "relcurr        4126 non-null int64\n",
      "attndnow       4126 non-null int64\n",
      "evwrk6mo       4126 non-null int64\n",
      "wrk12mos       4126 non-null int64\n",
      "everwork       4126 non-null int64\n",
      "rearnty        4126 non-null int64\n",
      "better         4126 non-null int64\n",
      "staytog        4126 non-null int64\n",
      "samesex        4126 non-null int64\n",
      "sxok18         4126 non-null int64\n",
      "sxok16         4126 non-null int64\n",
      "chreward       4126 non-null int64\n",
      "chsuppor       4126 non-null int64\n",
      "gayadopt       4126 non-null int64\n",
      "okcohab        4126 non-null int64\n",
      "warm           4126 non-null int64\n",
      "achieve        4126 non-null int64\n",
      "family         4126 non-null int64\n",
      "totinc         4126 non-null int64\n",
      "ager           4126 non-null int64\n",
      "educat         4126 non-null int64\n",
      "hispanic       4126 non-null int64\n",
      "race           4126 non-null int64\n",
      "numkdhh        4126 non-null int64\n",
      "numfmhh        4126 non-null int64\n",
      "intctfam       4126 non-null int64\n",
      "educmom        4126 non-null int64\n",
      "parity         4126 non-null int64\n",
      "fmar1age       4126 non-null float64\n",
      "cohever        4126 non-null int64\n",
      "vry1stag       4126 non-null float64\n",
      "fecund         4126 non-null int64\n",
      "insuranc       4126 non-null int64\n",
      "metro          4126 non-null int64\n",
      "religion       4126 non-null int64\n",
      "laborfor       4126 non-null int64\n",
      "poverty        4126 non-null int64\n",
      "totincr        4126 non-null int64\n",
      "pubassis       4126 non-null int64\n",
      "agemarry       4089 non-null float64\n",
      "evrdivorced    4126 non-null int32\n",
      "dtypes: float64(11), int32(1), int64(66)\n",
      "memory usage: 2.5 MB\n"
     ]
    }
   ],
   "source": [
    "resp6.info()"
   ]
  },
  {
   "cell_type": "code",
   "execution_count": 67,
   "metadata": {
    "collapsed": true
   },
   "outputs": [],
   "source": [
    "ID = resp6['caseid']\n",
    "target = resp6[\"evrdivorced\"] "
   ]
  },
  {
   "cell_type": "code",
   "execution_count": 69,
   "metadata": {
    "collapsed": false
   },
   "outputs": [
    {
     "name": "stdout",
     "output_type": "stream",
     "text": [
      "<class 'pandas.core.frame.DataFrame'>\n",
      "Int64Index: 4126 entries, 1 to 7638\n",
      "Data columns (total 78 columns):\n",
      "caseid         4126 non-null int64\n",
      "roscnt         4126 non-null int64\n",
      "higrade        4126 non-null int64\n",
      "parmarr        4126 non-null int64\n",
      "intact18       4126 non-null int64\n",
      "onown18        4126 non-null int64\n",
      "numbabes       4126 non-null int64\n",
      "ndied          4126 non-null int64\n",
      "hasbabes       4126 non-null int64\n",
      "menarche       4126 non-null int64\n",
      "numpregs       4126 non-null float64\n",
      "everpreg       4126 non-null int64\n",
      "knowfp         4126 non-null float64\n",
      "lifeprt        4126 non-null float64\n",
      "ptsb4mar       4126 non-null float64\n",
      "lifeprts       4126 non-null int64\n",
      "evertubs       4126 non-null int64\n",
      "anyfster       4126 non-null int64\n",
      "rsurgstr       4126 non-null int64\n",
      "rstrstat       4126 non-null int64\n",
      "pill           4126 non-null int64\n",
      "condom         4126 non-null float64\n",
      "rhythm         4126 non-null float64\n",
      "tempsafe       4126 non-null float64\n",
      "mornpill       4126 non-null float64\n",
      "rwant          4126 non-null int64\n",
      "diabetes       4126 non-null int64\n",
      "ovacyst        4126 non-null int64\n",
      "uf             4126 non-null int64\n",
      "endo           4126 non-null int64\n",
      "ovuprob        4126 non-null int64\n",
      "limited        4126 non-null int64\n",
      "equipmnt       4126 non-null int64\n",
      "cover12        4126 non-null int64\n",
      "brnout         4126 non-null int64\n",
      "paydu          4126 non-null int64\n",
      "relraisd       4126 non-null int64\n",
      "relcurr        4126 non-null int64\n",
      "attndnow       4126 non-null int64\n",
      "evwrk6mo       4126 non-null int64\n",
      "wrk12mos       4126 non-null int64\n",
      "everwork       4126 non-null int64\n",
      "rearnty        4126 non-null int64\n",
      "better         4126 non-null int64\n",
      "staytog        4126 non-null int64\n",
      "samesex        4126 non-null int64\n",
      "sxok18         4126 non-null int64\n",
      "sxok16         4126 non-null int64\n",
      "chreward       4126 non-null int64\n",
      "chsuppor       4126 non-null int64\n",
      "gayadopt       4126 non-null int64\n",
      "okcohab        4126 non-null int64\n",
      "warm           4126 non-null int64\n",
      "achieve        4126 non-null int64\n",
      "family         4126 non-null int64\n",
      "totinc         4126 non-null int64\n",
      "ager           4126 non-null int64\n",
      "educat         4126 non-null int64\n",
      "hispanic       4126 non-null int64\n",
      "race           4126 non-null int64\n",
      "numkdhh        4126 non-null int64\n",
      "numfmhh        4126 non-null int64\n",
      "intctfam       4126 non-null int64\n",
      "educmom        4126 non-null int64\n",
      "parity         4126 non-null int64\n",
      "fmar1age       4126 non-null float64\n",
      "cohever        4126 non-null int64\n",
      "vry1stag       4126 non-null float64\n",
      "fecund         4126 non-null int64\n",
      "insuranc       4126 non-null int64\n",
      "metro          4126 non-null int64\n",
      "religion       4126 non-null int64\n",
      "laborfor       4126 non-null int64\n",
      "poverty        4126 non-null int64\n",
      "totincr        4126 non-null int64\n",
      "pubassis       4126 non-null int64\n",
      "agemarry       4126 non-null object\n",
      "evrdivorced    4126 non-null int32\n",
      "dtypes: float64(10), int32(1), int64(66), object(1)\n",
      "memory usage: 2.5+ MB\n"
     ]
    }
   ],
   "source": [
    "#agemarry still has null values\n",
    "#resp6['agemarry'] = resp6.['agemarry'].dropna()\n",
    "#resp6.info()\n",
    "#fill in nulls with median values\n",
    "resp6 = resp6.fillna(lambda x: x.median())\n",
    "resp6.info()"
   ]
  },
  {
   "cell_type": "code",
   "execution_count": 70,
   "metadata": {
    "collapsed": false
   },
   "outputs": [
    {
     "name": "stdout",
     "output_type": "stream",
     "text": [
      "<class 'pandas.core.frame.DataFrame'>\n",
      "Int64Index: 4126 entries, 1 to 7638\n",
      "Data columns (total 78 columns):\n",
      "caseid         4126 non-null int64\n",
      "roscnt         4126 non-null int64\n",
      "higrade        4126 non-null int64\n",
      "parmarr        4126 non-null int64\n",
      "intact18       4126 non-null int64\n",
      "onown18        4126 non-null int64\n",
      "numbabes       4126 non-null int64\n",
      "ndied          4126 non-null int64\n",
      "hasbabes       4126 non-null int64\n",
      "menarche       4126 non-null int64\n",
      "numpregs       4126 non-null float64\n",
      "everpreg       4126 non-null int64\n",
      "knowfp         4126 non-null float64\n",
      "lifeprt        4126 non-null float64\n",
      "ptsb4mar       4126 non-null float64\n",
      "lifeprts       4126 non-null int64\n",
      "evertubs       4126 non-null int64\n",
      "anyfster       4126 non-null int64\n",
      "rsurgstr       4126 non-null int64\n",
      "rstrstat       4126 non-null int64\n",
      "pill           4126 non-null int64\n",
      "condom         4126 non-null float64\n",
      "rhythm         4126 non-null float64\n",
      "tempsafe       4126 non-null float64\n",
      "mornpill       4126 non-null float64\n",
      "rwant          4126 non-null int64\n",
      "diabetes       4126 non-null int64\n",
      "ovacyst        4126 non-null int64\n",
      "uf             4126 non-null int64\n",
      "endo           4126 non-null int64\n",
      "ovuprob        4126 non-null int64\n",
      "limited        4126 non-null int64\n",
      "equipmnt       4126 non-null int64\n",
      "cover12        4126 non-null int64\n",
      "brnout         4126 non-null int64\n",
      "paydu          4126 non-null int64\n",
      "relraisd       4126 non-null int64\n",
      "relcurr        4126 non-null int64\n",
      "attndnow       4126 non-null int64\n",
      "evwrk6mo       4126 non-null int64\n",
      "wrk12mos       4126 non-null int64\n",
      "everwork       4126 non-null int64\n",
      "rearnty        4126 non-null int64\n",
      "better         4126 non-null int64\n",
      "staytog        4126 non-null int64\n",
      "samesex        4126 non-null int64\n",
      "sxok18         4126 non-null int64\n",
      "sxok16         4126 non-null int64\n",
      "chreward       4126 non-null int64\n",
      "chsuppor       4126 non-null int64\n",
      "gayadopt       4126 non-null int64\n",
      "okcohab        4126 non-null int64\n",
      "warm           4126 non-null int64\n",
      "achieve        4126 non-null int64\n",
      "family         4126 non-null int64\n",
      "totinc         4126 non-null int64\n",
      "ager           4126 non-null int64\n",
      "educat         4126 non-null int64\n",
      "hispanic       4126 non-null int64\n",
      "race           4126 non-null int64\n",
      "numkdhh        4126 non-null int64\n",
      "numfmhh        4126 non-null int64\n",
      "intctfam       4126 non-null int64\n",
      "educmom        4126 non-null int64\n",
      "parity         4126 non-null int64\n",
      "fmar1age       4126 non-null float64\n",
      "cohever        4126 non-null int64\n",
      "vry1stag       4126 non-null float64\n",
      "fecund         4126 non-null int64\n",
      "insuranc       4126 non-null int64\n",
      "metro          4126 non-null int64\n",
      "religion       4126 non-null int64\n",
      "laborfor       4126 non-null int64\n",
      "poverty        4126 non-null int64\n",
      "totincr        4126 non-null int64\n",
      "pubassis       4126 non-null int64\n",
      "agemarry       4126 non-null object\n",
      "evrdivorced    4126 non-null int32\n",
      "dtypes: float64(10), int32(1), int64(66), object(1)\n",
      "memory usage: 2.5+ MB\n"
     ]
    }
   ],
   "source": [
    "cols = ['caseid', 'roscnt','higrade', 'parmarr',  'intact18', 'onown18', 'numbabes', 'ndied', 'hasbabes', 'menarche', 'numpregs', 'everpreg', 'knowfp', 'lifeprt', 'ptsb4mar', 'lifeprts', 'evertubs', 'anyfster', 'rsurgstr', 'rstrstat', 'pill', 'condom', 'rhythm', 'tempsafe', 'mornpill', 'rwant', 'diabetes', 'ovacyst', 'uf', 'endo', 'ovuprob', 'limited', 'equipmnt', 'cover12', 'brnout', 'paydu', 'relraisd', 'relcurr', 'attndnow', 'evwrk6mo', 'wrk12mos', 'everwork', 'rearnty', 'better', 'staytog', 'samesex', 'sxok18', 'sxok16', 'chreward', 'chsuppor', 'gayadopt', 'okcohab', 'warm', 'achieve', 'family', 'totinc', 'ager', 'educat', 'hispanic', 'race', 'numkdhh', 'numfmhh', 'intctfam', 'educmom', 'parity', 'fmar1age', 'cohever', 'vry1stag', 'fecund', 'insuranc', 'metro', 'religion', 'laborfor', 'poverty', 'totincr', 'pubassis', 'evrdivorced']\n",
    "resp6.info()"
   ]
  },
  {
   "cell_type": "code",
   "execution_count": 71,
   "metadata": {
    "collapsed": false
   },
   "outputs": [],
   "source": [
    "#drop agemarry\n",
    "resp6 = resp6[['roscnt','higrade', 'parmarr',  'intact18', 'onown18', 'numbabes', 'ndied', 'hasbabes', 'menarche', 'numpregs', 'everpreg', 'knowfp', 'lifeprt', 'ptsb4mar', 'lifeprts', 'evertubs', 'anyfster', 'rsurgstr', 'rstrstat', 'pill', 'condom', 'rhythm', 'tempsafe', 'mornpill', 'rwant', 'diabetes', 'ovacyst', 'uf', 'endo', 'ovuprob', 'limited', 'equipmnt', 'cover12', 'brnout', 'paydu', 'relraisd', 'relcurr', 'attndnow', 'evwrk6mo', 'wrk12mos', 'everwork', 'rearnty', 'better', 'staytog', 'samesex', 'sxok18', 'sxok16', 'chreward', 'chsuppor', 'gayadopt', 'okcohab', 'warm', 'achieve', 'family', 'totinc', 'ager', 'educat', 'hispanic', 'race', 'numkdhh', 'numfmhh', 'intctfam', 'educmom', 'parity', 'fmar1age', 'cohever', 'vry1stag', 'fecund', 'insuranc', 'metro', 'religion', 'laborfor', 'poverty', 'totincr', 'pubassis']].copy()"
   ]
  },
  {
   "cell_type": "markdown",
   "metadata": {},
   "source": [
    "#Machine Learning Begins Here\n",
    "#Should I delete from here down for the data story report?"
   ]
  },
  {
   "cell_type": "code",
   "execution_count": 72,
   "metadata": {
    "collapsed": false
   },
   "outputs": [
    {
     "name": "stderr",
     "output_type": "stream",
     "text": [
      "C:\\Users\\Karen\\Anaconda3\\lib\\site-packages\\sklearn\\cross_validation.py:44: DeprecationWarning: This module was deprecated in version 0.18 in favor of the model_selection module into which all the refactored classes and functions are moved. Also note that the interface of the new CV iterators are different from that of this module. This module will be removed in 0.20.\n",
      "  \"This module will be removed in 0.20.\", DeprecationWarning)\n",
      "C:\\Users\\Karen\\Anaconda3\\lib\\site-packages\\sklearn\\grid_search.py:43: DeprecationWarning: This module was deprecated in version 0.18 in favor of the model_selection module into which all the refactored classes and functions are moved. This module will be removed in 0.20.\n",
      "  DeprecationWarning)\n"
     ]
    }
   ],
   "source": [
    "import sklearn\n",
    "from sklearn.metrics import roc_auc_score\n",
    "from sklearn.grid_search import GridSearchCV\n"
   ]
  },
  {
   "cell_type": "code",
   "execution_count": 73,
   "metadata": {
    "collapsed": true
   },
   "outputs": [],
   "source": [
    "from sklearn.linear_model import LogisticRegression\n",
    "from sklearn.cross_validation import train_test_split\n",
    "from sklearn import metrics\n",
    "from sklearn.cross_validation import cross_val_score"
   ]
  },
  {
   "cell_type": "code",
   "execution_count": 74,
   "metadata": {
    "collapsed": false
   },
   "outputs": [
    {
     "data": {
      "text/plain": [
       "LogisticRegression(C=1.0, class_weight=None, dual=False, fit_intercept=True,\n",
       "          intercept_scaling=1, max_iter=100, multi_class='ovr', n_jobs=1,\n",
       "          penalty='l2', random_state=None, solver='liblinear', tol=0.0001,\n",
       "          verbose=0, warm_start=False)"
      ]
     },
     "execution_count": 74,
     "metadata": {},
     "output_type": "execute_result"
    }
   ],
   "source": [
    "# evaluate the model by splitting into train and test sets\n",
    "#xtrain, xtest, ytrain, ytest = train_test_split(resp6.values, target.values, test_size=0.3, random_state=0)\n",
    "xtrain, xtest, ytrain, ytest = sklearn.cross_validation.train_test_split(resp6.values, target.values, train_size=0.8)\n",
    "model = LogisticRegression()\n",
    "model.fit(xtrain, ytrain)"
   ]
  },
  {
   "cell_type": "code",
   "execution_count": 75,
   "metadata": {
    "collapsed": false
   },
   "outputs": [
    {
     "data": {
      "text/plain": [
       "0.82030303030303031"
      ]
     },
     "execution_count": 75,
     "metadata": {},
     "output_type": "execute_result"
    }
   ],
   "source": [
    "#model = LogisticRegression()\n",
    "#model = model.fit(xtrain, ytrain)\n",
    "\n",
    "# check the accuracy on the training set\n",
    "model.score(xtrain, ytrain)"
   ]
  },
  {
   "cell_type": "markdown",
   "metadata": {
    "collapsed": true
   },
   "source": [
    "#\n",
    "xtrain, xtest, ytrain, ytest = train_test_split(\n",
    "    resp6.values, target.values, train_size=0.8)\n",
    "model2 = LogisticRegression()\n",
    "model2.fit(xtrain, ytrain)\n",
    "#lr_preds = linreg.predict(xtest)\n",
    "#lr_perf = roc_auc_score(ytest, lr_preds)"
   ]
  },
  {
   "cell_type": "code",
   "execution_count": 76,
   "metadata": {
    "collapsed": false
   },
   "outputs": [
    {
     "name": "stdout",
     "output_type": "stream",
     "text": [
      "[1 1 0 0 0 0 0 0 0 0 0 0 0 0 1 0 0 0 0 0 0 0 0 0 0 1 0 0 1 0 0 0 1 0 0 0 0\n",
      " 0 0 0 0 0 1 0 0 0 0 1 0 0 0 0 0 0 0 0 0 0 1 0 0 0 0 0 0 1 1 0 0 0 0 0 1 0\n",
      " 0 0 0 0 0 0 0 0 0 1 1 0 0 0 1 0 0 0 0 0 0 0 0 1 0 0 1 1 0 0 0 0 0 0 1 0 0\n",
      " 0 0 0 0 0 0 1 0 1 0 0 1 0 0 0 0 0 0 0 0 0 0 0 0 1 0 0 0 0 1 0 1 0 0 0 1 0\n",
      " 0 1 0 0 0 0 0 0 0 0 0 0 1 0 1 0 0 0 0 0 0 1 1 0 0 0 1 0 0 1 0 0 0 0 0 0 0\n",
      " 0 0 0 1 0 0 0 0 0 0 0 0 0 0 0 0 0 0 0 0 0 0 0 0 0 0 0 0 0 0 0 0 0 0 0 0 0\n",
      " 0 0 0 1 0 0 0 1 0 0 1 0 0 0 1 0 0 0 0 1 0 0 1 0 0 0 1 0 0 0 0 1 0 0 0 0 0\n",
      " 0 0 0 0 1 0 0 0 0 0 0 1 0 0 0 0 1 0 0 0 0 0 0 0 0 0 0 0 0 0 0 0 0 0 0 0 0\n",
      " 0 0 0 0 0 0 0 0 0 0 1 0 0 0 0 0 0 1 0 1 0 0 0 1 0 0 0 0 0 1 0 0 0 0 1 0 0\n",
      " 1 0 0 0 0 0 0 0 0 0 0 1 1 0 0 0 0 0 0 0 0 0 0 0 0 0 0 1 0 0 1 1 0 1 0 0 0\n",
      " 0 0 0 1 0 0 0 0 1 0 0 0 1 0 0 0 0 0 0 0 0 0 0 0 0 0 0 0 0 0 0 0 0 0 1 0 0\n",
      " 0 0 0 0 1 0 0 0 0 0 1 0 0 0 0 0 0 0 0 0 0 0 0 0 1 0 0 1 0 0 1 0 1 0 0 1 0\n",
      " 0 0 0 0 1 0 0 0 0 0 0 0 0 0 0 0 0 0 0 0 0 0 0 0 0 0 0 0 0 0 0 0 0 0 0 0 0\n",
      " 0 0 0 0 0 1 0 0 0 0 0 0 0 0 0 0 1 1 0 0 0 0 0 0 0 1 1 0 0 0 0 0 1 1 0 0 0\n",
      " 0 1 0 0 0 0 0 0 0 0 0 0 0 0 0 0 0 0 0 1 0 0 1 0 0 0 0 0 1 0 0 1 0 0 1 1 1\n",
      " 0 0 0 0 1 0 1 0 1 0 0 0 0 0 0 0 0 1 0 1 0 0 0 0 0 0 0 0 1 0 0 0 1 0 1 0 0\n",
      " 0 1 0 1 0 0 0 0 0 1 0 0 0 0 0 0 0 0 0 0 1 0 0 0 0 0 1 0 0 0 0 0 0 1 0 0 0\n",
      " 0 0 0 0 0 0 0 0 0 0 0 0 0 1 0 0 0 0 0 0 0 0 0 0 1 0 0 0 0 0 0 1 1 0 0 0 1\n",
      " 0 1 0 0 0 0 0 0 0 0 0 0 0 0 0 0 1 0 0 1 1 0 0 0 0 0 0 0 0 0 0 0 0 0 0 0 0\n",
      " 1 0 1 0 0 0 0 0 0 0 0 1 0 0 1 0 0 0 0 0 0 0 0 0 0 0 0 0 0 0 0 1 0 1 0 0 1\n",
      " 0 0 0 0 0 0 0 0 0 0 0 0 0 1 0 0 0 0 0 0 0 0 0 0 0 0 0 0 0 0 1 0 0 0 0 0 0\n",
      " 0 0 0 0 0 0 0 0 0 0 0 0 1 0 0 1 0 0 0 0 0 0 0 0 1 0 0 1 0 1 0 0 0 0 0 0 0\n",
      " 0 0 1 0 0 1 1 0 0 0 0 0]\n"
     ]
    }
   ],
   "source": [
    "# predict class labels for the test set\n",
    "predicted = model.predict(xtest)\n",
    "print(predicted)"
   ]
  },
  {
   "cell_type": "code",
   "execution_count": 77,
   "metadata": {
    "collapsed": false
   },
   "outputs": [
    {
     "name": "stdout",
     "output_type": "stream",
     "text": [
      "[[ 0.03817964  0.96182036]\n",
      " [ 0.41475745  0.58524255]\n",
      " [ 0.83557258  0.16442742]\n",
      " ..., \n",
      " [ 0.81615717  0.18384283]\n",
      " [ 0.81523305  0.18476695]\n",
      " [ 0.70348542  0.29651458]]\n"
     ]
    }
   ],
   "source": [
    "# generate class probabilities\n",
    "probs = model.predict_proba(xtest)\n",
    "print(probs)"
   ]
  },
  {
   "cell_type": "code",
   "execution_count": 78,
   "metadata": {
    "collapsed": true
   },
   "outputs": [],
   "source": [
    "#As you can see, the classifier is predicting a 1 (divorced) any time the probability in the second column is greater than 0.5.\n",
    "\n",
    "#Now let's generate some evaluation metrics."
   ]
  },
  {
   "cell_type": "code",
   "execution_count": 79,
   "metadata": {
    "collapsed": false
   },
   "outputs": [
    {
     "name": "stdout",
     "output_type": "stream",
     "text": [
      "0.808716707022\n",
      "0.81013950608\n"
     ]
    }
   ],
   "source": [
    "# generate evaluation metrics\n",
    "print(metrics.accuracy_score(ytest, predicted))\n",
    "print(metrics.roc_auc_score(ytest, probs[:, 1]))"
   ]
  },
  {
   "cell_type": "markdown",
   "metadata": {},
   "source": [
    "The accuracy is 82%.\n",
    "The ROC is 84%\n",
    "We can also produce a confusion matrix and a classification report with other metrics."
   ]
  },
  {
   "cell_type": "code",
   "execution_count": 80,
   "metadata": {
    "collapsed": false
   },
   "outputs": [
    {
     "name": "stdout",
     "output_type": "stream",
     "text": [
      "[[591  48]\n",
      " [110  77]]\n",
      "             precision    recall  f1-score   support\n",
      "\n",
      "          0       0.84      0.92      0.88       639\n",
      "          1       0.62      0.41      0.49       187\n",
      "\n",
      "avg / total       0.79      0.81      0.79       826\n",
      "\n"
     ]
    }
   ],
   "source": [
    "print(metrics.confusion_matrix(ytest, predicted))\n",
    "print(metrics.classification_report(ytest, predicted))"
   ]
  },
  {
   "cell_type": "markdown",
   "metadata": {},
   "source": [
    "Now let's try 10-fold cross-validation, to see if the accuracy holds up more rigorously."
   ]
  },
  {
   "cell_type": "code",
   "execution_count": 81,
   "metadata": {
    "collapsed": false
   },
   "outputs": [
    {
     "name": "stdout",
     "output_type": "stream",
     "text": [
      "[ 0.79176755  0.79176755  0.79903148  0.79661017  0.82566586  0.80387409\n",
      "  0.8062954   0.82038835  0.82281553  0.8053528 ]\n",
      "0.806356878809\n"
     ]
    }
   ],
   "source": [
    "# evaluate the model using 10-fold cross-validation\n",
    "scores = cross_val_score(LogisticRegression(), resp6.values, target.values, scoring='accuracy', cv=10)\n",
    "print(scores)\n",
    "print(scores.mean())"
   ]
  },
  {
   "cell_type": "code",
   "execution_count": 82,
   "metadata": {
    "collapsed": false
   },
   "outputs": [],
   "source": [
    "#The mean of the scores is approx. 80%"
   ]
  },
  {
   "cell_type": "code",
   "execution_count": 86,
   "metadata": {
    "collapsed": true
   },
   "outputs": [],
   "source": [
    "from sklearn.ensemble import GradientBoostingClassifier\n",
    "from sklearn.metrics import roc_auc_score\n",
    "from sklearn.grid_search import GridSearchCV"
   ]
  },
  {
   "cell_type": "code",
   "execution_count": 87,
   "metadata": {
    "collapsed": false
   },
   "outputs": [
    {
     "data": {
      "text/plain": [
       "GradientBoostingClassifier(criterion='friedman_mse', init=None,\n",
       "              learning_rate=0.1, loss='deviance', max_depth=3,\n",
       "              max_features=None, max_leaf_nodes=None,\n",
       "              min_impurity_split=1e-07, min_samples_leaf=1,\n",
       "              min_samples_split=2, min_weight_fraction_leaf=0.0,\n",
       "              n_estimators=100, presort='auto', random_state=None,\n",
       "              subsample=1.0, verbose=0, warm_start=False)"
      ]
     },
     "execution_count": 87,
     "metadata": {},
     "output_type": "execute_result"
    }
   ],
   "source": [
    "xtrain, xtest, ytrain, ytest = sklearn.cross_validation.train_test_split(resp6.values, target.values, train_size=0.8)\n",
    "gbm = GradientBoostingClassifier(n_estimators=100)\n",
    "gbm.fit(xtrain, ytrain)"
   ]
  },
  {
   "cell_type": "code",
   "execution_count": 88,
   "metadata": {
    "collapsed": false
   },
   "outputs": [
    {
     "data": {
      "text/plain": [
       "0.8196969696969697"
      ]
     },
     "execution_count": 88,
     "metadata": {},
     "output_type": "execute_result"
    }
   ],
   "source": [
    "model.score(xtrain, ytrain)"
   ]
  },
  {
   "cell_type": "code",
   "execution_count": 89,
   "metadata": {
    "collapsed": false
   },
   "outputs": [
    {
     "name": "stdout",
     "output_type": "stream",
     "text": [
      "[0 1 0 0 0 1 0 0 0 1 0 1 0 1 0 0 0 0 0 1 0 0 0 0 0 0 0 0 0 0 0 0 0 0 0 0 1\n",
      " 0 1 0 0 0 0 0 0 0 1 0 0 0 0 0 0 0 1 0 0 0 0 0 0 0 0 0 1 0 0 0 0 0 1 0 0 0\n",
      " 0 0 1 1 0 0 0 0 0 0 0 0 0 0 0 0 0 0 0 0 0 0 0 0 0 0 0 0 0 1 1 0 0 0 0 0 1\n",
      " 1 0 0 0 0 0 1 0 0 0 0 0 0 0 0 0 0 1 0 0 0 0 0 1 0 0 0 0 0 0 0 0 0 0 0 0 0\n",
      " 0 0 0 1 0 0 0 0 0 0 0 0 1 0 0 0 0 0 0 0 1 0 0 0 0 0 0 1 0 1 0 0 0 1 0 0 0\n",
      " 0 1 0 1 0 0 0 0 0 0 0 0 0 0 0 0 0 0 0 0 0 0 0 0 0 0 0 0 0 0 0 1 0 1 1 0 0\n",
      " 0 0 0 0 1 0 1 0 0 0 0 0 0 0 0 0 0 0 0 0 0 0 0 0 0 0 1 0 0 0 0 0 1 0 0 0 0\n",
      " 0 0 0 0 0 1 0 0 1 0 0 0 0 0 0 1 1 0 0 0 0 0 0 0 1 0 0 0 0 0 0 0 0 0 0 0 0\n",
      " 0 0 0 0 0 1 0 0 0 0 0 1 0 0 0 0 0 1 0 0 0 0 1 0 1 0 0 0 0 0 0 1 0 1 0 0 0\n",
      " 0 0 0 0 0 0 0 0 0 0 0 0 1 0 0 0 0 1 0 0 0 0 0 0 0 0 0 0 1 0 1 0 0 0 0 0 0\n",
      " 0 0 0 1 0 0 0 0 0 0 0 0 0 0 1 0 0 0 0 0 0 0 0 0 0 0 1 0 0 0 0 0 0 0 1 0 1\n",
      " 0 0 1 0 1 0 0 1 0 0 0 0 0 1 0 0 0 0 0 0 1 1 0 0 0 1 0 0 0 0 1 0 0 1 0 1 0\n",
      " 0 0 0 0 1 1 1 1 1 0 0 0 0 0 0 0 0 0 0 0 0 0 0 0 0 0 0 0 0 1 0 0 1 0 0 1 0\n",
      " 0 1 0 1 1 0 0 0 1 1 0 0 0 0 0 0 1 0 0 0 0 0 0 1 0 0 0 0 0 1 0 0 0 0 0 0 0\n",
      " 1 0 0 0 0 1 0 1 0 0 0 0 1 0 0 0 0 0 1 0 0 0 1 0 0 0 0 0 0 0 0 0 0 0 1 1 0\n",
      " 0 0 1 0 0 0 0 0 0 0 0 0 0 0 0 0 0 1 0 1 0 0 0 0 1 0 0 1 0 0 1 0 0 0 0 0 1\n",
      " 0 0 1 0 0 0 0 0 0 0 0 0 1 0 0 0 0 0 0 0 0 0 0 0 1 0 0 1 0 1 1 0 0 0 1 1 0\n",
      " 0 0 0 0 0 0 0 0 0 0 0 0 0 0 0 0 0 1 0 0 0 0 0 0 0 0 0 0 0 0 0 1 1 0 0 0 0\n",
      " 0 0 1 0 1 0 1 1 0 1 0 0 0 0 1 0 0 0 0 0 0 0 0 0 0 0 0 0 0 0 0 1 0 0 0 0 0\n",
      " 0 0 0 1 0 1 0 0 0 0 0 0 0 0 0 0 0 0 0 0 0 1 0 0 1 0 0 0 0 0 0 0 1 0 0 0 0\n",
      " 0 0 0 1 0 0 0 0 0 0 1 0 0 0 0 0 0 0 0 0 0 0 1 1 0 1 0 0 1 0 0 0 0 0 0 0 0\n",
      " 0 0 0 0 0 0 0 0 0 1 0 0 0 0 0 0 0 0 1 0 0 0 0 0 0 0 0 1 0 0 0 0 0 0 0 1 0\n",
      " 1 0 1 0 0 0 0 1 0 0 0 0]\n"
     ]
    }
   ],
   "source": [
    "# predict class labels for the test set\n",
    "predicted = model.predict(xtest)\n",
    "print(predicted)"
   ]
  },
  {
   "cell_type": "code",
   "execution_count": 90,
   "metadata": {
    "collapsed": false
   },
   "outputs": [
    {
     "name": "stdout",
     "output_type": "stream",
     "text": [
      "[[ 0.93737012  0.06262988]\n",
      " [ 0.36646536  0.63353464]\n",
      " [ 0.89418896  0.10581104]\n",
      " ..., \n",
      " [ 0.98919615  0.01080385]\n",
      " [ 0.90442087  0.09557913]\n",
      " [ 0.92497135  0.07502865]]\n"
     ]
    }
   ],
   "source": [
    "# generate class probabilities\n",
    "probs = model.predict_proba(xtest)\n",
    "print(probs)"
   ]
  },
  {
   "cell_type": "code",
   "execution_count": 91,
   "metadata": {
    "collapsed": false
   },
   "outputs": [
    {
     "name": "stdout",
     "output_type": "stream",
     "text": [
      "0.811138014528\n",
      "0.853957821071\n"
     ]
    }
   ],
   "source": [
    "# generate evaluation metrics\n",
    "print(metrics.accuracy_score(ytest, predicted))\n",
    "print(metrics.roc_auc_score(ytest, probs[:, 1]))"
   ]
  },
  {
   "cell_type": "code",
   "execution_count": 92,
   "metadata": {
    "collapsed": false
   },
   "outputs": [
    {
     "name": "stdout",
     "output_type": "stream",
     "text": [
      "[[579  43]\n",
      " [113  91]]\n",
      "             precision    recall  f1-score   support\n",
      "\n",
      "          0       0.84      0.93      0.88       622\n",
      "          1       0.68      0.45      0.54       204\n",
      "\n",
      "avg / total       0.80      0.81      0.80       826\n",
      "\n"
     ]
    }
   ],
   "source": [
    "print(metrics.confusion_matrix(ytest, predicted))\n",
    "print(metrics.classification_report(ytest, predicted))"
   ]
  },
  {
   "cell_type": "code",
   "execution_count": 93,
   "metadata": {
    "collapsed": false
   },
   "outputs": [
    {
     "name": "stdout",
     "output_type": "stream",
     "text": [
      "[ 0.84261501  0.83292978  0.83535109  0.81598063  0.87893462  0.86682809\n",
      "  0.83535109  0.85679612  0.84708738  0.83211679]\n",
      "0.844399059824\n"
     ]
    }
   ],
   "source": [
    "# evaluate the model using 10-fold cross-validation\n",
    "scores = cross_val_score(GradientBoostingClassifier(), resp6.values, target.values, scoring='accuracy', cv=10)\n",
    "print(scores)\n",
    "print(scores.mean())"
   ]
  },
  {
   "cell_type": "code",
   "execution_count": null,
   "metadata": {
    "collapsed": true
   },
   "outputs": [],
   "source": []
  },
  {
   "cell_type": "code",
   "execution_count": 94,
   "metadata": {
    "collapsed": false
   },
   "outputs": [
    {
     "name": "stdout",
     "output_type": "stream",
     "text": [
      "GBM: Area under the ROC curve = 0.8899423113296766\n"
     ]
    }
   ],
   "source": [
    "from sklearn.ensemble import GradientBoostingClassifier\n",
    "from sklearn.metrics import roc_auc_score\n",
    "from sklearn.grid_search import GridSearchCV\n",
    "\n",
    "gbm = GradientBoostingClassifier(n_estimators=100)\n",
    "\n",
    "gbm.fit(xtrain, ytrain)\n",
    "gbm_preds = gbm.predict_proba(xtest)[:, 1]\n",
    "gbm_performance = roc_auc_score(ytest, gbm_preds)\n",
    "\n",
    "print ('GBM: Area under the ROC curve = {}'.format(gbm_performance))"
   ]
  },
  {
   "cell_type": "markdown",
   "metadata": {
    "collapsed": false
   },
   "source": [
    "gbm_preds = gbm.predict_proba(xtrain)[:, 1]\n",
    "gbm_performance = roc_auc_score(ytrain, gbm_preds)\n",
    "\n",
    "print ('GBM: Area under the ROC curve = {}'.format(gbm_performance))"
   ]
  },
  {
   "cell_type": "code",
   "execution_count": 96,
   "metadata": {
    "collapsed": false
   },
   "outputs": [
    {
     "name": "stdout",
     "output_type": "stream",
     "text": [
      "[0 0 0 0 0 0 0 0 0 0 0 0 0 0 0 0 0 0 0 0 0 0 0 0 0 0 0 0 0 0 0 0 0 0 0 0 0\n",
      " 0 0 0 0 0 0 0 0 0 0 0 0 0 0 0 0 0 0 0 0 0 0 0 0 0 0 0 0 0 0 0 0 0 0 0 0 0\n",
      " 0 0 0 0 0 0 0 0 0 0 0 0 0 0 0 0 0 0 0 0 0 0 0 0 0 0 0 0 0 0 0 0 0 0 0 0 0\n",
      " 0 0 0 0 0 0 0 0 0 0 0 0 0 0 0 0 0 0 0 0 0 0 0 0 0 0 0 0 0 0 0 0 0 0 0 0 0\n",
      " 0 0 0 0 0 0 0 0 0 0 0 0 0 0 0 0 0 0 0 0 0 0 0 0 0 0 0 0 0 0 0 0 0 0 0 0 0\n",
      " 0 0 0 0 0 0 0 0 0 0 0 0 0 0 0 0 0 0 0 0 0 0 0 0 0 0 0 0 0 0 0 0 0 0 0 0 0\n",
      " 0 0 0 0 0 0 0 0 0 0 0 0 0 0 0 0 0 0 0 0 0 0 0 0 0 0 0 0 0 0 0 0 0 0 0 0 0\n",
      " 0 0 0 0 0 0 0 0 0 0 0 0 0 0 0 0 0 0 0 0 0 0 0 0 0 0 0 0 0 0 0 0 0 0 0 0 0\n",
      " 0 0 0 0 0 0 0 0 0 0 0 0 0 0 0 0 0 0 0 0 0 0 0 0 0 0 0 0 0 0 0 0 0 0 0 0 0\n",
      " 0 0 0 0 0 0 0 0 0 0 0 0 0 0 0 0 0 0 0 0 0 0 0 0 0 0 0 0 0 0 0 0 0 0 0 0 0\n",
      " 0 0 0 0 0 0 0 0 0 0 0 0 0 0 0 0 0 0 0 0 0 0 0 0 0 0 0 0 0 0 0 0 0 0 0 0 0\n",
      " 0 0 0 0 0 0 0 0 0 0 0 0 0 0 0 0 0 0 0 0 0 0 0 0 0 0 0 0 0 0 0 0 0 0 0 0 0\n",
      " 0 0 0 0 0 0 0 0 0 0 0 0 0 0 0 0 0 0 0 0 0 0 0 0 0 0 0 0 0 0 0 0 0 0 0 0 0\n",
      " 0 0 0 0 0 0 0 0 0 0 0 0 0 0 0 0 0 0 0 0 0 0 0 0 0 0 0 0 0 0 0 0 0 0 0 0 0\n",
      " 0 0 0 0 0 0 0 0 0 0 0 0 0 0 0 0 0 0 0 0 0 0 0 0 0 0 0 0 0 0 0 0 0 0 0 0 0\n",
      " 0 0 0 0 0 0 0 0 0 0 0 0 0 0 0 0 0 0 0 0 0 0 0 0 0 0 0 0 0 0 0 0 0 0 0 0 0\n",
      " 0 0 0 0 0 0 0 0 0 0 0 0 0 0 0 0 0 0 0 0 0 0 0 0 0 0 0 0 0 0 0 0 0 0 0 0 0\n",
      " 0 0 0 0 0 0 0 0 0 0 0 0 0 0 0 0 0 0 0 0 0 0 0 0 0 0 0 0 0 0 0 0 0 0 0 0 0\n",
      " 0 0 0 0 0 0 0 0 0 0 0 0 0 0 0 0 0 0 0 0 0 0 0 0 0 0 0 0 0 0 0 0 0 0 0 0 0\n",
      " 0 0 0 0 0 0 0 0 0 0 0 0 0 0 0 0 0 0 0 0 0 0 0 0 0 0 0 0 0 0 0 0 0 0 0 0 0\n",
      " 0 0 0 0 0 0 0 0 0 0 0 0 0 0 0 0 0 0 0 0 0 0 0 0 0 0 0 0 0 0 0 0 0 0 0 0 0\n",
      " 0 0 0 0 0 0 0 0 0 0 0 0 0 0 0 0 0 0 0 0 0 0 0 0 0 0 0 0 0 0 0 0 0 0 0 0 0\n",
      " 0 0 0 0 0 0 0 0 0 0 0 0]\n"
     ]
    }
   ],
   "source": [
    "print(gbm_preds.astype(int))"
   ]
  },
  {
   "cell_type": "code",
   "execution_count": null,
   "metadata": {
    "collapsed": true
   },
   "outputs": [],
   "source": []
  },
  {
   "cell_type": "code",
   "execution_count": 97,
   "metadata": {
    "collapsed": false
   },
   "outputs": [
    {
     "name": "stdout",
     "output_type": "stream",
     "text": [
      "             precision    recall  f1-score   support\n",
      "\n",
      "          0       0.75      1.00      0.86       622\n",
      "          1       0.00      0.00      0.00       204\n",
      "\n",
      "avg / total       0.57      0.75      0.65       826\n",
      "\n"
     ]
    },
    {
     "name": "stderr",
     "output_type": "stream",
     "text": [
      "C:\\Users\\Karen\\Anaconda3\\lib\\site-packages\\sklearn\\metrics\\classification.py:1113: UndefinedMetricWarning: Precision and F-score are ill-defined and being set to 0.0 in labels with no predicted samples.\n",
      "  'precision', 'predicted', average, warn_for)\n"
     ]
    }
   ],
   "source": [
    "gbmreport = metrics.classification_report(ytest, gbm_preds.astype(int))\n",
    "print(gbmreport)"
   ]
  },
  {
   "cell_type": "code",
   "execution_count": null,
   "metadata": {
    "collapsed": true
   },
   "outputs": [],
   "source": []
  },
  {
   "cell_type": "code",
   "execution_count": 98,
   "metadata": {
    "collapsed": false
   },
   "outputs": [
    {
     "name": "stdout",
     "output_type": "stream",
     "text": [
      "DecisionTree: Area under the ROC curve = 0.849954290397831\n"
     ]
    }
   ],
   "source": [
    "from sklearn.tree import DecisionTreeClassifier\n",
    "from sklearn.metrics import roc_auc_score\n",
    "tree = GridSearchCV(DecisionTreeClassifier(),\n",
    "                    {'max_depth': np.arange(3, 10)})\n",
    "tree.fit(xtrain, ytrain)\n",
    "tree_preds = tree.predict_proba(xtest)[:, 1]\n",
    "tree_performance = roc_auc_score(ytest, tree_preds)\n",
    "print ('DecisionTree: Area under the ROC curve = {}'.format(tree_performance))"
   ]
  },
  {
   "cell_type": "code",
   "execution_count": 99,
   "metadata": {
    "collapsed": false
   },
   "outputs": [
    {
     "name": "stdout",
     "output_type": "stream",
     "text": [
      "ptsb4mar    0.109746\n",
      "fmar1age    0.104855\n",
      "lifeprts    0.087800\n",
      "lifeprt     0.081386\n",
      "ager        0.072787\n",
      "numfmhh     0.049026\n",
      "vry1stag    0.041312\n",
      "poverty     0.030796\n",
      "numkdhh     0.025870\n",
      "race        0.022237\n",
      "higrade     0.019928\n",
      "educat      0.018912\n",
      "knowfp      0.017158\n",
      "relcurr     0.015735\n",
      "totincr     0.015501\n",
      "samesex     0.014527\n",
      "roscnt      0.014508\n",
      "better      0.014477\n",
      "numpregs    0.013650\n",
      "menarche    0.013472\n",
      "laborfor    0.013073\n",
      "relraisd    0.012623\n",
      "parmarr     0.011880\n",
      "hispanic    0.011874\n",
      "wrk12mos    0.010644\n",
      "staytog     0.010444\n",
      "equipmnt    0.010415\n",
      "cohever     0.010128\n",
      "educmom     0.009215\n",
      "attndnow    0.008326\n",
      "dtype: float64\n"
     ]
    }
   ],
   "source": [
    "importances = pd.Series(gbm.feature_importances_, index=resp6.columns)\n",
    "print (importances.order(ascending=False)[:30])"
   ]
  },
  {
   "cell_type": "code",
   "execution_count": 100,
   "metadata": {
    "collapsed": false
   },
   "outputs": [],
   "source": [
    "#Random Forest Classifier\n"
   ]
  },
  {
   "cell_type": "code",
   "execution_count": 101,
   "metadata": {
    "collapsed": true
   },
   "outputs": [],
   "source": [
    "from sklearn.ensemble import RandomForestClassifier"
   ]
  },
  {
   "cell_type": "code",
   "execution_count": 102,
   "metadata": {
    "collapsed": false
   },
   "outputs": [
    {
     "name": "stdout",
     "output_type": "stream",
     "text": [
      "[0 0 0 0 0 0 0 0 0 0 0 1 0 0 0 0 0 0 0 0 0 0 0 0 0 0 0 0 0 0 0 0 0 0 0 0 0\n",
      " 0 0 0 0 1 0 0 1 1 0 0 0 0 0 0 0 0 0 0 0 1 0 0 0 0 0 1 0 0 0 0 0 0 0 0 0 0\n",
      " 0 0 0 0 0 0 0 0 1 1 0 0 0 0 1 0 1 1 1 0 0 0 0 0 1 1 0 0 0 0 0 0 0 0 0 0 0\n",
      " 0 0 0 1 0 0 0 0 0 0 1 0 0 0 1 0 1 0 1 0 0 0 1 0 0 0 0 0 0 0 0 0 1 0 0 1 0\n",
      " 1 0 0 0 0 0 0 0 1 0 0 0 0 0 1 0 0 0 0 1 0 0 1 0 0 0 0 0 0 0 0 0 0 0 0 1 0\n",
      " 0 0 0 1 0 0 1 0 0 0 0 0 0 0 0 0 0 0 1 0 0 0 1 0 0 0 0 0 0 0 0 0 0 0 0 0 0\n",
      " 0 0 1 1 1 0 0 1 0 0 0 0 0 0 0 0 0 0 0 0 1 0 0 0 0 0 0 0 0 0 1 0 0 0 0 0 0\n",
      " 0 0 0 1 0 1 0 0 0 1 0 0 0 0 1 1 1 1 0 1 0 0 0 0 0 0 0 0 0 0 0 0 0 1 0 1 0\n",
      " 0 0 1 0 0 0 1 1 0 0 0 1 0 0 0 0 0 0 0 0 0 0 0 0 0 0 0 0 0 0 0 0 0 0 0 0 0\n",
      " 1 0 0 0 0 0 0 0 0 0 1 0 0 0 1 0 0 0 1 0 0 0 0 0 0 0 0 0 0 0 0 0 0 0 0 0 0\n",
      " 0 0 0 0 0 0 0 0 0 0 0 0 0 0 0 0 0 1 0 0 1 0 0 0 0 1 0 0 0 0 0 0 0 0 0 0 0\n",
      " 1 0 0 0 0 1 0 0 0 1 0 0 1 0 0 0 0 0 0 0 1 0 1 0 0 0 0 0 0 0 0 0 0 0 0 0 0\n",
      " 1 0 0 0 0 0 0 0 0 0 0 0 0 0 0 0 1 0 0 0 0 0 0 0 0 0 0 0 0 1 0 0 0 0 0 0 0\n",
      " 0 0 0 1 0 0 0 0 0 0 1 0 1 0 0 0 0 0 0 1 0 0 0 1 0 1 0 0 0 0 0 0 0 0 0 0 0\n",
      " 1 0 0 0 0 0 1 0 0 1 0 0 0 0 0 0 0 0 0 1 1 0 0 1 0 0 1 1 0 0 0 0 0 0 0 0 1\n",
      " 0 0 0 0 0 0 0 0 0 0 0 1 0 0 0 0 0 0 0 0 0 0 0 0 1 1 1 1 0 0 1 0 0 0 0 1 1\n",
      " 0 0 1 0 0 0 0 0 0 1 0 1 1 1 1 0 0 0 1 0 1 0 0 0 0 0 0 0 0 0 0 0 0 1 0 0 0\n",
      " 0 0 0 0 0 0 1 0 0 0 0 1 1 0 0 0 0 0 0 0 0 0 0 0 0 1 0 0 0 0 0 0 0 0 0 0 0\n",
      " 0 0 0 0 0 0 0 0 1 0 0 1 0 0 0 0 0 0 0 0 0 0 0 0 0 0 1 0 0 0 0 0 1 1 0 1 0\n",
      " 0 0 1 0 0 0 0 1 0 0 0 0 0 0 0 1 0 0 0 1 0 0 0 1 0 0 1 0 0 0 0 0 0 0 0 0 0\n",
      " 0 0 0 0 0 1 0 0 0 0 1 1 1 0 0 0 1 0 1 1 1 0 0 1 0 0 0 0 1 0 0 0 0 0 0 0 0\n",
      " 0 1 0 0 0 0 0 0 0 0 1 1 0 0 0 0 0 0 1 0 0 0 1 0 0 0 1 0 0 0 0 0 0 0 0 0 1\n",
      " 1 1 0 1 0 0 0 0 0 0 0 1]\n",
      "[[ 0.93497313  0.06502687]\n",
      " [ 0.72549286  0.27450714]\n",
      " [ 0.93940702  0.06059298]\n",
      " ..., \n",
      " [ 0.69055275  0.30944725]\n",
      " [ 0.92827131  0.07172869]\n",
      " [ 0.11587935  0.88412065]]\n",
      "0.822033898305\n",
      "0.851383864583\n",
      "[[593  51]\n",
      " [ 96  86]]\n",
      "             precision    recall  f1-score   support\n",
      "\n",
      "          0       0.86      0.92      0.89       644\n",
      "          1       0.63      0.47      0.54       182\n",
      "\n",
      "avg / total       0.81      0.82      0.81       826\n",
      "\n",
      "[ 0.8062954   0.8062954   0.77966102  0.79418886  0.8401937   0.8062954\n",
      "  0.80387409  0.81553398  0.80339806  0.80778589]\n",
      "0.8063521801\n"
     ]
    }
   ],
   "source": [
    "#from sklearn.ensemble import GradientBoostingClassifier\n",
    "#from sklearn.metrics import roc_auc_score\n",
    "#from sklearn.grid_search import GridSearchCV\n",
    "xtrain, xtest, ytrain, ytest = sklearn.cross_validation.train_test_split(resp6.values, target.values, train_size=0.8)\n",
    "rf = RandomForestClassifier(n_estimators=100)\n",
    "rf.fit(xtrain, ytrain)\n",
    "model.score(xtrain, ytrain)\n",
    "# predict class labels for the test set\n",
    "rfpredicted = model.predict(xtest)\n",
    "print(rfpredicted)\n",
    "# generate class probabilities\n",
    "probs = model.predict_proba(xtest)\n",
    "print(probs)\n",
    "# generate evaluation metrics\n",
    "print(metrics.accuracy_score(ytest, rfpredicted))\n",
    "print(metrics.roc_auc_score(ytest, probs[:, 1]))\n",
    "print(metrics.confusion_matrix(ytest, rfpredicted))\n",
    "print(metrics.classification_report(ytest, rfpredicted))\n",
    "# evaluate the model using 10-fold cross-validation\n",
    "scores = cross_val_score(RandomForestClassifier(), resp6.values, target.values, scoring='accuracy', cv=10)\n",
    "print(scores)\n",
    "print(scores.mean())\n"
   ]
  },
  {
   "cell_type": "code",
   "execution_count": 104,
   "metadata": {
    "collapsed": false
   },
   "outputs": [],
   "source": [
    "resp6['is_train'] = np.random.uniform(0, 1, len(resp6)) <= .75"
   ]
  },
  {
   "cell_type": "code",
   "execution_count": 106,
   "metadata": {
    "collapsed": false
   },
   "outputs": [],
   "source": [
    "resp6['evrd'] = target"
   ]
  },
  {
   "cell_type": "code",
   "execution_count": 107,
   "metadata": {
    "collapsed": false
   },
   "outputs": [
    {
     "data": {
      "text/html": [
       "<div>\n",
       "<table border=\"1\" class=\"dataframe\">\n",
       "  <thead>\n",
       "    <tr style=\"text-align: right;\">\n",
       "      <th></th>\n",
       "      <th>roscnt</th>\n",
       "      <th>higrade</th>\n",
       "      <th>parmarr</th>\n",
       "      <th>intact18</th>\n",
       "      <th>onown18</th>\n",
       "      <th>numbabes</th>\n",
       "      <th>ndied</th>\n",
       "      <th>hasbabes</th>\n",
       "      <th>menarche</th>\n",
       "      <th>numpregs</th>\n",
       "      <th>...</th>\n",
       "      <th>fecund</th>\n",
       "      <th>insuranc</th>\n",
       "      <th>metro</th>\n",
       "      <th>religion</th>\n",
       "      <th>laborfor</th>\n",
       "      <th>poverty</th>\n",
       "      <th>totincr</th>\n",
       "      <th>pubassis</th>\n",
       "      <th>is_train</th>\n",
       "      <th>evrd</th>\n",
       "    </tr>\n",
       "  </thead>\n",
       "  <tbody>\n",
       "    <tr>\n",
       "      <th>1</th>\n",
       "      <td>2</td>\n",
       "      <td>14</td>\n",
       "      <td>1</td>\n",
       "      <td>1</td>\n",
       "      <td>5</td>\n",
       "      <td>1</td>\n",
       "      <td>0</td>\n",
       "      <td>1</td>\n",
       "      <td>12</td>\n",
       "      <td>1.0</td>\n",
       "      <td>...</td>\n",
       "      <td>1</td>\n",
       "      <td>4</td>\n",
       "      <td>1</td>\n",
       "      <td>1</td>\n",
       "      <td>1</td>\n",
       "      <td>334</td>\n",
       "      <td>10</td>\n",
       "      <td>2</td>\n",
       "      <td>True</td>\n",
       "      <td>1</td>\n",
       "    </tr>\n",
       "    <tr>\n",
       "      <th>2</th>\n",
       "      <td>1</td>\n",
       "      <td>12</td>\n",
       "      <td>1</td>\n",
       "      <td>1</td>\n",
       "      <td>5</td>\n",
       "      <td>1</td>\n",
       "      <td>0</td>\n",
       "      <td>1</td>\n",
       "      <td>8</td>\n",
       "      <td>1.0</td>\n",
       "      <td>...</td>\n",
       "      <td>1</td>\n",
       "      <td>4</td>\n",
       "      <td>1</td>\n",
       "      <td>1</td>\n",
       "      <td>9</td>\n",
       "      <td>156</td>\n",
       "      <td>5</td>\n",
       "      <td>2</td>\n",
       "      <td>True</td>\n",
       "      <td>1</td>\n",
       "    </tr>\n",
       "    <tr>\n",
       "      <th>5</th>\n",
       "      <td>4</td>\n",
       "      <td>9</td>\n",
       "      <td>5</td>\n",
       "      <td>1</td>\n",
       "      <td>5</td>\n",
       "      <td>6</td>\n",
       "      <td>0</td>\n",
       "      <td>1</td>\n",
       "      <td>16</td>\n",
       "      <td>8.0</td>\n",
       "      <td>...</td>\n",
       "      <td>6</td>\n",
       "      <td>1</td>\n",
       "      <td>1</td>\n",
       "      <td>2</td>\n",
       "      <td>7</td>\n",
       "      <td>128</td>\n",
       "      <td>7</td>\n",
       "      <td>1</td>\n",
       "      <td>True</td>\n",
       "      <td>0</td>\n",
       "    </tr>\n",
       "    <tr>\n",
       "      <th>8</th>\n",
       "      <td>4</td>\n",
       "      <td>12</td>\n",
       "      <td>1</td>\n",
       "      <td>1</td>\n",
       "      <td>5</td>\n",
       "      <td>3</td>\n",
       "      <td>0</td>\n",
       "      <td>1</td>\n",
       "      <td>11</td>\n",
       "      <td>3.0</td>\n",
       "      <td>...</td>\n",
       "      <td>6</td>\n",
       "      <td>2</td>\n",
       "      <td>2</td>\n",
       "      <td>2</td>\n",
       "      <td>1</td>\n",
       "      <td>99</td>\n",
       "      <td>6</td>\n",
       "      <td>2</td>\n",
       "      <td>True</td>\n",
       "      <td>0</td>\n",
       "    </tr>\n",
       "    <tr>\n",
       "      <th>10</th>\n",
       "      <td>3</td>\n",
       "      <td>12</td>\n",
       "      <td>1</td>\n",
       "      <td>1</td>\n",
       "      <td>5</td>\n",
       "      <td>2</td>\n",
       "      <td>0</td>\n",
       "      <td>1</td>\n",
       "      <td>11</td>\n",
       "      <td>2.0</td>\n",
       "      <td>...</td>\n",
       "      <td>1</td>\n",
       "      <td>2</td>\n",
       "      <td>2</td>\n",
       "      <td>2</td>\n",
       "      <td>7</td>\n",
       "      <td>237</td>\n",
       "      <td>9</td>\n",
       "      <td>2</td>\n",
       "      <td>False</td>\n",
       "      <td>0</td>\n",
       "    </tr>\n",
       "  </tbody>\n",
       "</table>\n",
       "<p>5 rows × 77 columns</p>\n",
       "</div>"
      ],
      "text/plain": [
       "    roscnt  higrade  parmarr  intact18  onown18  numbabes  ndied  hasbabes  \\\n",
       "1        2       14        1         1        5         1      0         1   \n",
       "2        1       12        1         1        5         1      0         1   \n",
       "5        4        9        5         1        5         6      0         1   \n",
       "8        4       12        1         1        5         3      0         1   \n",
       "10       3       12        1         1        5         2      0         1   \n",
       "\n",
       "    menarche  numpregs  ...   fecund  insuranc  metro  religion  laborfor  \\\n",
       "1         12       1.0  ...        1         4      1         1         1   \n",
       "2          8       1.0  ...        1         4      1         1         9   \n",
       "5         16       8.0  ...        6         1      1         2         7   \n",
       "8         11       3.0  ...        6         2      2         2         1   \n",
       "10        11       2.0  ...        1         2      2         2         7   \n",
       "\n",
       "    poverty  totincr  pubassis  is_train  evrd  \n",
       "1       334       10         2      True     1  \n",
       "2       156        5         2      True     1  \n",
       "5       128        7         1      True     0  \n",
       "8        99        6         2      True     0  \n",
       "10      237        9         2     False     0  \n",
       "\n",
       "[5 rows x 77 columns]"
      ]
     },
     "execution_count": 107,
     "metadata": {},
     "output_type": "execute_result"
    }
   ],
   "source": [
    "resp6.head()"
   ]
  },
  {
   "cell_type": "code",
   "execution_count": 108,
   "metadata": {
    "collapsed": false
   },
   "outputs": [],
   "source": [
    "train, test = resp6[resp6['is_train']==True], resp6[resp6['is_train']==False]"
   ]
  },
  {
   "cell_type": "code",
   "execution_count": 109,
   "metadata": {
    "collapsed": true
   },
   "outputs": [],
   "source": [
    "features = resp6.columns[:75]"
   ]
  },
  {
   "cell_type": "code",
   "execution_count": 110,
   "metadata": {
    "collapsed": true
   },
   "outputs": [],
   "source": [
    "clf = RandomForestClassifier(n_jobs=2)"
   ]
  },
  {
   "cell_type": "code",
   "execution_count": 111,
   "metadata": {
    "collapsed": false
   },
   "outputs": [],
   "source": [
    "y, _ = pd.factorize(train['evrd'])\n"
   ]
  },
  {
   "cell_type": "code",
   "execution_count": 112,
   "metadata": {
    "collapsed": false
   },
   "outputs": [
    {
     "data": {
      "text/plain": [
       "RandomForestClassifier(bootstrap=True, class_weight=None, criterion='gini',\n",
       "            max_depth=None, max_features='auto', max_leaf_nodes=None,\n",
       "            min_impurity_split=1e-07, min_samples_leaf=1,\n",
       "            min_samples_split=2, min_weight_fraction_leaf=0.0,\n",
       "            n_estimators=10, n_jobs=2, oob_score=False, random_state=None,\n",
       "            verbose=0, warm_start=False)"
      ]
     },
     "execution_count": 112,
     "metadata": {},
     "output_type": "execute_result"
    }
   ],
   "source": [
    "clf.fit(train[features], y)"
   ]
  },
  {
   "cell_type": "code",
   "execution_count": 113,
   "metadata": {
    "collapsed": true
   },
   "outputs": [],
   "source": [
    "preds = clf.predict(test[features])"
   ]
  },
  {
   "cell_type": "code",
   "execution_count": 114,
   "metadata": {
    "collapsed": false
   },
   "outputs": [
    {
     "data": {
      "text/html": [
       "<div>\n",
       "<table border=\"1\" class=\"dataframe\">\n",
       "  <thead>\n",
       "    <tr style=\"text-align: right;\">\n",
       "      <th>preds</th>\n",
       "      <th>0</th>\n",
       "      <th>1</th>\n",
       "    </tr>\n",
       "    <tr>\n",
       "      <th>actual</th>\n",
       "      <th></th>\n",
       "      <th></th>\n",
       "    </tr>\n",
       "  </thead>\n",
       "  <tbody>\n",
       "    <tr>\n",
       "      <th>0</th>\n",
       "      <td>87</td>\n",
       "      <td>648</td>\n",
       "    </tr>\n",
       "    <tr>\n",
       "      <th>1</th>\n",
       "      <td>120</td>\n",
       "      <td>130</td>\n",
       "    </tr>\n",
       "  </tbody>\n",
       "</table>\n",
       "</div>"
      ],
      "text/plain": [
       "preds     0    1\n",
       "actual          \n",
       "0        87  648\n",
       "1       120  130"
      ]
     },
     "execution_count": 114,
     "metadata": {},
     "output_type": "execute_result"
    }
   ],
   "source": [
    "pd.crosstab(test['evrd'], preds, rownames=['actual'], colnames=['preds'])"
   ]
  },
  {
   "cell_type": "code",
   "execution_count": 115,
   "metadata": {
    "collapsed": false
   },
   "outputs": [
    {
     "name": "stdout",
     "output_type": "stream",
     "text": [
      "[0 0 0 ..., 0 1 0]\n"
     ]
    }
   ],
   "source": [
    "print(ytest)"
   ]
  },
  {
   "cell_type": "code",
   "execution_count": null,
   "metadata": {
    "collapsed": true
   },
   "outputs": [],
   "source": []
  }
 ],
 "metadata": {
  "kernelspec": {
   "display_name": "Python 3",
   "language": "python",
   "name": "python3"
  },
  "language_info": {
   "codemirror_mode": {
    "name": "ipython",
    "version": 3
   },
   "file_extension": ".py",
   "mimetype": "text/x-python",
   "name": "python",
   "nbconvert_exporter": "python",
   "pygments_lexer": "ipython3",
   "version": "3.6.0"
  }
 },
 "nbformat": 4,
 "nbformat_minor": 2
}
